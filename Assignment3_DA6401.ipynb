{
  "nbformat": 4,
  "nbformat_minor": 0,
  "metadata": {
    "colab": {
      "provenance": [],
      "gpuType": "T4"
    },
    "kernelspec": {
      "name": "python3",
      "display_name": "Python 3"
    },
    "language_info": {
      "name": "python"
    },
    "accelerator": "GPU"
  },
  "cells": [
    {
      "cell_type": "code",
      "metadata": {
        "id": "u0qCvgqBxzLo",
        "colab": {
          "base_uri": "https://localhost:8080/"
        },
        "outputId": "ca090102-680f-4076-ec0a-315342d74cfc"
      },
      "source": [
        "!pip install wordcloud\n",
        "!pip install colour"
      ],
      "execution_count": 1,
      "outputs": [
        {
          "output_type": "stream",
          "name": "stdout",
          "text": [
            "Requirement already satisfied: wordcloud in /usr/local/lib/python3.11/dist-packages (1.9.4)\n",
            "Requirement already satisfied: numpy>=1.6.1 in /usr/local/lib/python3.11/dist-packages (from wordcloud) (2.0.2)\n",
            "Requirement already satisfied: pillow in /usr/local/lib/python3.11/dist-packages (from wordcloud) (11.2.1)\n",
            "Requirement already satisfied: matplotlib in /usr/local/lib/python3.11/dist-packages (from wordcloud) (3.10.0)\n",
            "Requirement already satisfied: contourpy>=1.0.1 in /usr/local/lib/python3.11/dist-packages (from matplotlib->wordcloud) (1.3.2)\n",
            "Requirement already satisfied: cycler>=0.10 in /usr/local/lib/python3.11/dist-packages (from matplotlib->wordcloud) (0.12.1)\n",
            "Requirement already satisfied: fonttools>=4.22.0 in /usr/local/lib/python3.11/dist-packages (from matplotlib->wordcloud) (4.58.0)\n",
            "Requirement already satisfied: kiwisolver>=1.3.1 in /usr/local/lib/python3.11/dist-packages (from matplotlib->wordcloud) (1.4.8)\n",
            "Requirement already satisfied: packaging>=20.0 in /usr/local/lib/python3.11/dist-packages (from matplotlib->wordcloud) (24.2)\n",
            "Requirement already satisfied: pyparsing>=2.3.1 in /usr/local/lib/python3.11/dist-packages (from matplotlib->wordcloud) (3.2.3)\n",
            "Requirement already satisfied: python-dateutil>=2.7 in /usr/local/lib/python3.11/dist-packages (from matplotlib->wordcloud) (2.9.0.post0)\n",
            "Requirement already satisfied: six>=1.5 in /usr/local/lib/python3.11/dist-packages (from python-dateutil>=2.7->matplotlib->wordcloud) (1.17.0)\n",
            "Requirement already satisfied: colour in /usr/local/lib/python3.11/dist-packages (0.1.5)\n"
          ]
        }
      ]
    },
    {
      "cell_type": "code",
      "metadata": {
        "colab": {
          "base_uri": "https://localhost:8080/"
        },
        "id": "VffbVoa3r-Lq",
        "outputId": "516ad4d8-1ed4-442c-9941-168b2a01641a"
      },
      "source": [
        "## Installing font for Hindi for matplotlib ##\n",
        "!apt-get install -y fonts-lohit-deva\n",
        "!fc-list :lang=hi family"
      ],
      "execution_count": 2,
      "outputs": [
        {
          "output_type": "stream",
          "name": "stdout",
          "text": [
            "Reading package lists... Done\n",
            "Building dependency tree... Done\n",
            "Reading state information... Done\n",
            "The following NEW packages will be installed:\n",
            "  fonts-lohit-deva\n",
            "0 upgraded, 1 newly installed, 0 to remove and 34 not upgraded.\n",
            "Need to get 78.9 kB of archives.\n",
            "After this operation, 198 kB of additional disk space will be used.\n",
            "Get:1 http://archive.ubuntu.com/ubuntu jammy/main amd64 fonts-lohit-deva all 2.95.4-4 [78.9 kB]\n",
            "Fetched 78.9 kB in 1s (75.2 kB/s)\n",
            "Selecting previously unselected package fonts-lohit-deva.\n",
            "(Reading database ... 126102 files and directories currently installed.)\n",
            "Preparing to unpack .../fonts-lohit-deva_2.95.4-4_all.deb ...\n",
            "Unpacking fonts-lohit-deva (2.95.4-4) ...\n",
            "Setting up fonts-lohit-deva (2.95.4-4) ...\n",
            "Processing triggers for fontconfig (2.13.1-4.2ubuntu5) ...\n",
            "Lohit Devanagari\n"
          ]
        }
      ]
    },
    {
      "cell_type": "code",
      "metadata": {
        "id": "s6xB0KDuy95e"
      },
      "source": [
        "import os\n",
        "import random\n",
        "import time\n",
        "import wandb\n",
        "import re, string\n",
        "import numpy as np\n",
        "import pandas as pd\n",
        "import matplotlib as mpl\n",
        "import matplotlib.pyplot as plt\n",
        "from matplotlib.font_manager import FontProperties\n",
        "from wordcloud import WordCloud, STOPWORDS\n",
        "from collections import Counter\n",
        "from colour import Color\n",
        "from nltk.translate.bleu_score import sentence_bleu, SmoothingFunction\n",
        "\n",
        "import tensorflow as tf\n",
        "from tensorflow.keras import layers\n",
        "import tensorflow.keras.backend as K\n",
        "from tensorflow.keras.preprocessing.text import Tokenizer"
      ],
      "execution_count": 11,
      "outputs": []
    },
    {
      "cell_type": "code",
      "metadata": {
        "colab": {
          "base_uri": "https://localhost:8080/"
        },
        "id": "NVMyzAmMzE1a",
        "outputId": "9e223358-1f46-43d1-e46e-13026cf7ceed"
      },
      "source": [
        "from google.colab import drive\n",
        "drive.mount('/content/drive')"
      ],
      "execution_count": 4,
      "outputs": [
        {
          "output_type": "stream",
          "name": "stdout",
          "text": [
            "Mounted at /content/drive\n"
          ]
        }
      ]
    },
    {
      "cell_type": "markdown",
      "metadata": {
        "id": "9t1O6AgVjPYm"
      },
      "source": [
        "# Loading the Data"
      ]
    },
    {
      "cell_type": "code",
      "metadata": {
        "id": "w96THw2KjYFJ"
      },
      "source": [
        "## Download the dataset ##\n",
        "import requests\n",
        "import tarfile\n",
        "\n",
        "def download_data(save_path):\n",
        "\n",
        "    data_url = r\"https://storage.googleapis.com/gresearch/dakshina/dakshina_dataset_v1.0.tar\"\n",
        "\n",
        "    r = requests.get(data_url, allow_redirects=True)\n",
        "    tar_path = \"data_assignment3.tar\"\n",
        "\n",
        "    if r.status_code == 200:\n",
        "        with open(tar_path, 'wb') as f:\n",
        "            f.write(r.content)\n",
        "\n",
        "    tar_file = tarfile.open(tar_path)\n",
        "    tar_file.extractall(save_path)\n",
        "    tar_file.close()\n",
        "\n",
        "\n",
        "# downloading and extracting the data to drive\n",
        "\n",
        "download_data(\"/content/drive/MyDrive/DakshinaDataset\")"
      ],
      "execution_count": 9,
      "outputs": []
    },
    {
      "cell_type": "markdown",
      "metadata": {
        "id": "dlbXxZXZjpEq"
      },
      "source": [
        "# Data Preprocessing"
      ]
    },
    {
      "cell_type": "code",
      "metadata": {
        "id": "fC_zHEatTLsT"
      },
      "source": [
        "# Files with English to Devanagari (Hindi) translation word by word\n",
        "# Punctutations have already been cleaned from this file\n",
        "\n",
        "def get_data_files(language):\n",
        "    \"\"\" Function fo read data\n",
        "    \"\"\"\n",
        "\n",
        "    ## REPLACE THIS PATH UPTO dakshina_dataset_v1.0 with your own dataset path ##\n",
        "    template = \"/content/drive/MyDrive/DakshinaDataset/dakshina_dataset_v1.0/hi/lexicons/hi.translit.sampled.{}.tsv\"\n",
        "\n",
        "    train_tsv = template.format(\"train\")\n",
        "    val_tsv = template.format(\"dev\")\n",
        "    test_tsv = template.format(\"test\")\n",
        "\n",
        "    return train_tsv, val_tsv, test_tsv\n",
        "\n",
        "## Utility functions for preprocessing data ##\n",
        "\n",
        "def add_start_end_tokens(df, cols, sos=\"\\t\", eos=\"\\n\"):\n",
        "    \"\"\" Adds EOS and SOS tokens to data\n",
        "    \"\"\"\n",
        "    def add_tokens(s):\n",
        "        # \\t = starting token\n",
        "        # \\n = ending token\n",
        "        return sos + str(s) + eos\n",
        "\n",
        "    for col in cols:\n",
        "        df[col] = df[col].apply(add_tokens)\n",
        "\n",
        "def tokenize(lang, tokenizer=None):\n",
        "    \"\"\" Uses tf.keras tokenizer to tokenize the data/words into characters\n",
        "    \"\"\"\n",
        "\n",
        "    if tokenizer is None:\n",
        "        tokenizer = Tokenizer(char_level=True)\n",
        "        tokenizer.fit_on_texts(lang)\n",
        "\n",
        "        lang_tensor = tokenizer.texts_to_sequences(lang)\n",
        "        lang_tensor = tf.keras.preprocessing.sequence.pad_sequences(lang_tensor,\n",
        "                                                            padding='post')\n",
        "\n",
        "    else:\n",
        "        lang_tensor = tokenizer.texts_to_sequences(lang)\n",
        "        lang_tensor = tf.keras.preprocessing.sequence.pad_sequences(lang_tensor,\n",
        "                                                            padding='post')\n",
        "\n",
        "    return lang_tensor, tokenizer\n",
        "\n",
        "def preprocess_data(fpath, input_lang_tokenizer=None, targ_lang_tokenizer=None):\n",
        "    \"\"\" Reads, tokenizes and adds SOS/EOS tokens to data based on above functions\n",
        "    \"\"\"\n",
        "\n",
        "    df = pd.read_csv(fpath, sep=\"\\t\", header=None)\n",
        "\n",
        "    # adding start and end tokens to know when to stop predicting\n",
        "    add_start_end_tokens(df, [0,1])\n",
        "\n",
        "    input_lang_tensor, input_tokenizer = tokenize(df[1].astype(str).tolist(),\n",
        "                                                    tokenizer=input_lang_tokenizer)\n",
        "\n",
        "    targ_lang_tensor, targ_tokenizer = tokenize(df[0].astype(str).tolist(),\n",
        "                                                    tokenizer=targ_lang_tokenizer)\n",
        "\n",
        "    dataset = tf.data.Dataset.from_tensor_slices((input_lang_tensor, targ_lang_tensor))\n",
        "    dataset = dataset.shuffle(len(dataset))\n",
        "\n",
        "    return dataset, input_tokenizer, targ_tokenizer"
      ],
      "execution_count": 10,
      "outputs": []
    },
    {
      "cell_type": "markdown",
      "metadata": {
        "id": "UjGJ1sFE-eon"
      },
      "source": [
        "# Model Building"
      ]
    },
    {
      "cell_type": "code",
      "metadata": {
        "id": "qLLikr1QN4kE"
      },
      "source": [
        "## Utility functions ##\n",
        "def get_layer(name, units, dropout, return_state=False, return_sequences=False):\n",
        "\n",
        "    if name==\"rnn\":\n",
        "        return layers.SimpleRNN(units=units, dropout=dropout,\n",
        "                                return_state=return_state,\n",
        "                                return_sequences=return_sequences)\n",
        "\n",
        "    if name==\"gru\":\n",
        "        return layers.GRU(units=units, dropout=dropout,\n",
        "                          return_state=return_state,\n",
        "                          return_sequences=return_sequences)\n",
        "\n",
        "    if name==\"lstm\":\n",
        "        return layers.LSTM(units=units, dropout=dropout,\n",
        "                           return_state=return_state,\n",
        "                           return_sequences=return_sequences)\n",
        "\n",
        "class BahdanauAttention(tf.keras.layers.Layer):\n",
        "  def __init__(self, units):\n",
        "    super(BahdanauAttention, self).__init__()\n",
        "    self.W1 = tf.keras.layers.Dense(units)\n",
        "    self.W2 = tf.keras.layers.Dense(units)\n",
        "    self.V = tf.keras.layers.Dense(1)\n",
        "\n",
        "  def call(self, enc_state, enc_out):\n",
        "\n",
        "    enc_state = tf.concat(enc_state, 1)\n",
        "    enc_state = tf.expand_dims(enc_state, 1)\n",
        "\n",
        "    score = self.V(tf.nn.tanh(self.W1(enc_state) + self.W2(enc_out)))\n",
        "\n",
        "    attention_weights = tf.nn.softmax(score, axis=1)\n",
        "\n",
        "    context_vector = attention_weights * enc_out\n",
        "    context_vector = tf.reduce_sum(context_vector, axis=1)\n",
        "\n",
        "    return context_vector, attention_weights\n",
        "\n",
        "\n",
        "class Encoder(tf.keras.Model):\n",
        "    def __init__(self, layer_type, n_layers, units, encoder_vocab_size, embedding_dim, dropout):\n",
        "        super(Encoder, self).__init__()\n",
        "        self.layer_type = layer_type\n",
        "        self.n_layers = n_layers\n",
        "        self.units = units\n",
        "        self.dropout = dropout\n",
        "        self.embedding = tf.keras.layers.Embedding(encoder_vocab_size, embedding_dim)\n",
        "        self.create_rnn_layers()\n",
        "\n",
        "    def call(self, x, hidden):\n",
        "        x = self.embedding(x)\n",
        "        outputs=x\n",
        "        # x = self.rnn_layers[0](x, initial_state=hidden)\n",
        "\n",
        "        # for layer in self.rnn_layers[1:]:\n",
        "        #     x = layer(x)\n",
        "\n",
        "        # output, state = x[0], x[1:]\n",
        "        # print(\"LSTM layer:\", self.layer_type)\n",
        "        # output = self.rnn_layers[0](outputs, initial_state=hidden)\n",
        "        # print(\"Returned:\", type(output), output)\n",
        "\n",
        "        if (self.layer_type=='lstm'):\n",
        "            outputs, h, c = self.rnn_layers[0](outputs, initial_state=hidden)\n",
        "            state = [h, c]\n",
        "        else:\n",
        "            outputs, h = self.rnn_layers[0](outputs, initial_state=hidden)\n",
        "            state = [h]\n",
        "\n",
        "        # Remaining LSTM layers just take outputs from previous layer\n",
        "        for layer in self.rnn_layers[1:]:\n",
        "            if (self.layer_type=='lstm'):\n",
        "               outputs, h, c = layer(outputs)\n",
        "               state = [h, c]  # update state if needed\n",
        "            else:\n",
        "               outputs, h = layer(outputs)\n",
        "               state = [h]\n",
        "\n",
        "        return outputs, state\n",
        "\n",
        "    def create_rnn_layers(self):\n",
        "        self.rnn_layers = []\n",
        "\n",
        "        for i in range(self.n_layers):\n",
        "            self.rnn_layers.append(get_layer(self.layer_type, self.units, self.dropout,\n",
        "                                                return_sequences=True,\n",
        "                                                return_state=True))\n",
        "\n",
        "\n",
        "    def initialize_hidden_state(self, batch_size):\n",
        "\n",
        "        if self.layer_type != \"lstm\":\n",
        "            return [tf.zeros((batch_size, self.units))]\n",
        "        else:\n",
        "            return [tf.zeros((batch_size, self.units))]*2\n",
        "\n",
        "class Decoder(tf.keras.Model):\n",
        "    def __init__(self, layer_type, n_layers, units, decoder_vocab_size, embedding_dim, dropout, attention=False):\n",
        "        super(Decoder, self).__init__()\n",
        "\n",
        "        self.layer_type = layer_type\n",
        "        self.n_layers = n_layers\n",
        "        self.units = units\n",
        "        self.dropout = dropout\n",
        "        self.attention = attention\n",
        "        self.embedding_layer = layers.Embedding(input_dim=decoder_vocab_size,\n",
        "                                                output_dim=embedding_dim)\n",
        "\n",
        "        self.dense = layers.Dense(decoder_vocab_size, activation=\"softmax\")\n",
        "        self.flatten = layers.Flatten()\n",
        "        if self.attention:\n",
        "            self.attention_layer = BahdanauAttention(self.units)\n",
        "        self.create_rnn_layers()\n",
        "\n",
        "    def call(self, x, hidden, enc_out=None):\n",
        "\n",
        "        # x = self.embedding_layer(x)\n",
        "\n",
        "        # if self.attention:\n",
        "        #     context_vector, attention_weights = self.attention_layer(hidden, enc_out)\n",
        "        #     x = tf.concat([tf.expand_dims(context_vector, 1), x], -1)\n",
        "        # else:\n",
        "        #     attention_weights = None\n",
        "\n",
        "        # x = self.rnn_layers[0](x, initial_state=hidden)\n",
        "\n",
        "        # for layer in self.rnn_layers[1:]:\n",
        "        #     x = layer(x)\n",
        "\n",
        "        # output, state = x[0], x[1:]\n",
        "\n",
        "        # output = self.dense(self.flatten(output))\n",
        "\n",
        "        x = self.embedding_layer(x)\n",
        "\n",
        "        if self.attention:\n",
        "            context_vector, attention_weights = self.attention_layer(hidden, enc_out)\n",
        "            x = tf.concat([tf.expand_dims(context_vector, 1), x], -1)\n",
        "        else:\n",
        "            attention_weights = None\n",
        "\n",
        "        # First LSTM layer gets the initial hidden state\n",
        "        if (self.layer_type=='lstm'):\n",
        "            x, h, c = self.rnn_layers[0](x, initial_state=hidden)\n",
        "            state = [h, c]\n",
        "        else:\n",
        "            x, h = self.rnn_layers[0](x, initial_state=hidden)\n",
        "            state = [h]\n",
        "\n",
        "        # Subsequent layers use only the output of the previous layer\n",
        "        for layer in self.rnn_layers[1:]:\n",
        "            if (self.layer_type=='lstm'):\n",
        "                x, h, c = layer(x)\n",
        "                state = [h, c]  # Update state if you want final output from last LSTM\n",
        "            else:\n",
        "                x, h = layer(x)\n",
        "                state = [h]\n",
        "\n",
        "        output = self.dense(self.flatten(x))\n",
        "\n",
        "        return output, state, attention_weights\n",
        "\n",
        "    def create_rnn_layers(self):\n",
        "        self.rnn_layers = []\n",
        "\n",
        "        for i in range(self.n_layers - 1):\n",
        "            self.rnn_layers.append(get_layer(self.layer_type, self.units, self.dropout,\n",
        "                                                return_sequences=True,\n",
        "                                                return_state=True))\n",
        "\n",
        "        self.rnn_layers.append(get_layer(self.layer_type, self.units, self.dropout,\n",
        "                                            return_sequences=False,\n",
        "                                            return_state=True))"
      ],
      "execution_count": 11,
      "outputs": []
    },
    {
      "cell_type": "code",
      "metadata": {
        "id": "Lks31eDH0KKc"
      },
      "source": [
        "class BeamSearch():\n",
        "    def __init__(self, model, k):\n",
        "        self.k = k\n",
        "        self.model = model\n",
        "        self.acc = tf.keras.metrics.Accuracy()\n",
        "\n",
        "    def sample_beam_search(self, probs):\n",
        "\n",
        "        m, n = probs.shape\n",
        "        output_sequences = [[[], 0.0]]\n",
        "\n",
        "        for row in probs:\n",
        "            beams = []\n",
        "\n",
        "            for tup in output_sequences:\n",
        "                seq, score = tup\n",
        "                for j in range(n):\n",
        "                    new_beam = [seq + [j], score - tf.math.log(row[j])]\n",
        "                    beams.append(new_beam)\n",
        "\n",
        "            output_sequences = sorted(beams, key=lambda x: x[1])[:self.k]\n",
        "\n",
        "        tensors, scores = list(zip(*output_sequences))\n",
        "        tensors = list(map(lambda x: tf.expand_dims(tf.constant(x),0), tensors))\n",
        "\n",
        "        return tf.concat(tensors, 0), scores\n",
        "\n",
        "    def beam_accuracy(self, input, target):\n",
        "        accs = []\n",
        "\n",
        "        for i in range(self.k):\n",
        "            self.acc.reset_states()\n",
        "            self.acc.update_state(target, input[i, :])\n",
        "            accs.append(self.acc.result())\n",
        "\n",
        "        return max(accs)\n",
        "\n",
        "    def step(self, input, target, enc_state):\n",
        "\n",
        "        batch_acc = 0\n",
        "        sequences = []\n",
        "\n",
        "        enc_out, enc_state = self.model.encoder(input, enc_state)\n",
        "\n",
        "        dec_state = enc_state\n",
        "        dec_input = tf.expand_dims([self.model.targ_tokenizer.word_index[\"\\t\"]]*self.model.batch_size ,1)\n",
        "\n",
        "        for t in range(1, target.shape[1]):\n",
        "\n",
        "            preds, dec_state, _ = self.model.decoder(dec_input, dec_state, enc_out)\n",
        "\n",
        "            sequences.append(preds)\n",
        "            preds = tf.argmax(preds, 1)\n",
        "            dec_input = tf.expand_dims(preds, 1)\n",
        "\n",
        "        sequences = tf.concat(list(map(lambda x: tf.expand_dims(x, 1), sequences)), axis=1)\n",
        "\n",
        "        for i in range(target.shape[0]):\n",
        "\n",
        "            possibilities, scores = self.sample_beam_search(sequences[i, :, :])\n",
        "            batch_acc += self.beam_accuracy(possibilities, target[i, 1:])\n",
        "\n",
        "        batch_acc = batch_acc / target.shape[0]\n",
        "\n",
        "        return 0, batch_acc\n",
        "\n",
        "    def evaluate(self, test_dataset, batch_size=None, upto=5, use_wandb=False):\n",
        "\n",
        "        if batch_size is not None:\n",
        "            self.model.batch_size = batch_size\n",
        "            test_dataset = test_dataset.batch(batch_size)\n",
        "        else:\n",
        "            self.model.batch_size = 1\n",
        "\n",
        "        test_acc = 0\n",
        "        enc_state = self.model.encoder.initialize_hidden_state(self.model.batch_size)\n",
        "\n",
        "        for batch, (input, target) in enumerate(test_dataset.take(upto)):\n",
        "\n",
        "           _, acc = self.step(input, target, enc_state)\n",
        "           test_acc += acc\n",
        "\n",
        "        if use_wandb:\n",
        "            wandb.log({\"test acc (beam search)\": test_acc / upto})\n",
        "\n",
        "        print(f\"Test Accuracy on {upto*batch_size} samples: {test_acc / upto:.4f}\\n\")\n",
        "\n",
        "    def translate(self, word):\n",
        "\n",
        "        word = \"\\t\" + word + \"\\n\"\n",
        "        sequences = []\n",
        "        result = []\n",
        "\n",
        "        inputs = self.model.input_tokenizer.texts_to_sequences([word])\n",
        "        inputs = tf.keras.preprocessing.sequence.pad_sequences(inputs,\n",
        "                                                               maxlen=self.model.max_input_len,\n",
        "                                                               padding=\"post\")\n",
        "\n",
        "\n",
        "        enc_state = self.model.encoder.initialize_hidden_state(1)\n",
        "        enc_out, enc_state = self.model.encoder(inputs, enc_state)\n",
        "\n",
        "        dec_state = enc_state\n",
        "        dec_input = tf.expand_dims([self.model.targ_tokenizer.word_index[\"\\t\"]]*1, 1)\n",
        "\n",
        "        for t in range(1, self.model.max_target_len):\n",
        "\n",
        "            preds, dec_state, _ = self.model.decoder(dec_input, dec_state, enc_out)\n",
        "\n",
        "            sequences.append(preds)\n",
        "            preds = tf.argmax(preds, 1)\n",
        "            dec_input = tf.expand_dims(preds, 1)\n",
        "\n",
        "        sequences = tf.concat(list(map(lambda x: tf.expand_dims(x, 1), sequences)), axis=1)\n",
        "\n",
        "        possibilities, scores = self.sample_beam_search(tf.squeeze(sequences, 0))\n",
        "        output_words = self.model.targ_tokenizer.sequences_to_texts(possibilities.numpy())\n",
        "\n",
        "        def post_process(word):\n",
        "            word = word.split(\" \")[:-1]\n",
        "            return \"\".join([x for x in word])\n",
        "\n",
        "        output_words = list(map(post_process, output_words))\n",
        "\n",
        "        return output_words, scores"
      ],
      "execution_count": 12,
      "outputs": []
    },
    {
      "cell_type": "code",
      "metadata": {
        "id": "fwR1miyeRrIG"
      },
      "source": [
        "class Seq2SeqModel():\n",
        "    def __init__(self, embedding_dim, encoder_layers, decoder_layers, layer_type, units, dropout, attention=False):\n",
        "        self.embedding_dim = embedding_dim\n",
        "        self.encoder_layers = encoder_layers\n",
        "        self.decoder_layers = decoder_layers\n",
        "        self.layer_type = layer_type\n",
        "        self.units = units\n",
        "        self.dropout = dropout\n",
        "        self.attention = attention\n",
        "        self.stats = []\n",
        "        self.batch_size = 128\n",
        "        self.use_beam_search = False\n",
        "\n",
        "    def build(self, loss, optimizer, metric):\n",
        "        self.loss = loss\n",
        "        self.optimizer = optimizer\n",
        "        self.metric = metric\n",
        "\n",
        "    def set_vocabulary(self, input_tokenizer, targ_tokenizer):\n",
        "        self.input_tokenizer = input_tokenizer\n",
        "        self.targ_tokenizer = targ_tokenizer\n",
        "        self.create_model()\n",
        "\n",
        "    def create_model(self):\n",
        "\n",
        "        encoder_vocab_size = len(self.input_tokenizer.word_index) + 1\n",
        "        decoder_vocab_size = len(self.targ_tokenizer.word_index) + 1\n",
        "\n",
        "        self.encoder = Encoder(self.layer_type, self.encoder_layers, self.units, encoder_vocab_size,\n",
        "                               self.embedding_dim, self.dropout)\n",
        "\n",
        "        self.decoder = Decoder(self.layer_type, self.decoder_layers, self.units, decoder_vocab_size,\n",
        "                               self.embedding_dim,  self.dropout, self.attention)\n",
        "\n",
        "    @tf.function\n",
        "    def train_step(self, input, target, enc_state):\n",
        "\n",
        "        loss = 0\n",
        "\n",
        "        with tf.GradientTape() as tape:\n",
        "\n",
        "            enc_out, enc_state = self.encoder(input, enc_state)\n",
        "\n",
        "            dec_state = enc_state\n",
        "            dec_input = tf.expand_dims([self.targ_tokenizer.word_index[\"\\t\"]]*self.batch_size ,1)\n",
        "\n",
        "            ## We use Teacher forcing to train the network\n",
        "            ## Each target at timestep t is passed as input for timestep t + 1\n",
        "\n",
        "            if random.random() < self.teacher_forcing_ratio:\n",
        "\n",
        "                for t in range(1, target.shape[1]):\n",
        "\n",
        "                    preds, dec_state, _ = self.decoder(dec_input, dec_state, enc_out)\n",
        "                    loss += self.loss(target[:,t], preds)\n",
        "                    self.metric.update_state(target[:,t], preds)\n",
        "\n",
        "                    dec_input = tf.expand_dims(target[:,t], 1)\n",
        "\n",
        "            else:\n",
        "\n",
        "                for t in range(1, target.shape[1]):\n",
        "\n",
        "                    preds, dec_state, _ = self.decoder(dec_input, dec_state, enc_out)\n",
        "                    loss += self.loss(target[:,t], preds)\n",
        "                    self.metric.update_state(target[:,t], preds)\n",
        "\n",
        "                    preds = tf.argmax(preds, 1)\n",
        "                    dec_input = tf.expand_dims(preds, 1)\n",
        "\n",
        "\n",
        "            batch_loss = loss / target.shape[1]\n",
        "\n",
        "            variables = self.encoder.variables + self.decoder.variables\n",
        "            gradients = tape.gradient(loss, variables)\n",
        "\n",
        "            self.optimizer.apply_gradients(zip(gradients, variables))\n",
        "\n",
        "        return batch_loss, self.metric.result()\n",
        "\n",
        "    @tf.function\n",
        "    def validation_step(self, input, target, enc_state):\n",
        "\n",
        "        loss = 0\n",
        "\n",
        "        enc_out, enc_state = self.encoder(input, enc_state)\n",
        "\n",
        "        dec_state = enc_state\n",
        "        dec_input = tf.expand_dims([self.targ_tokenizer.word_index[\"\\t\"]]*self.batch_size ,1)\n",
        "\n",
        "        for t in range(1, target.shape[1]):\n",
        "\n",
        "            preds, dec_state, _ = self.decoder(dec_input, dec_state, enc_out)\n",
        "            loss += self.loss(target[:,t], preds)\n",
        "            self.metric.update_state(target[:,t], preds)\n",
        "\n",
        "            preds = tf.argmax(preds, 1)\n",
        "            dec_input = tf.expand_dims(preds, 1)\n",
        "\n",
        "        batch_loss = loss / target.shape[1]\n",
        "\n",
        "        return batch_loss, self.metric.result()\n",
        "\n",
        "\n",
        "    def fit(self, dataset, val_dataset, batch_size=128, epochs=10, use_wandb=False, teacher_forcing_ratio=1.0):\n",
        "\n",
        "        self.batch_size = batch_size\n",
        "        self.teacher_forcing_ratio = teacher_forcing_ratio\n",
        "\n",
        "        steps_per_epoch = len(dataset) // self.batch_size\n",
        "        steps_per_epoch_val = len(val_dataset) // self.batch_size\n",
        "\n",
        "        dataset = dataset.batch(self.batch_size, drop_remainder=True)\n",
        "        val_dataset = val_dataset.batch(self.batch_size, drop_remainder=True)\n",
        "\n",
        "        # useful when we need to translate the sentence\n",
        "        sample_inp, sample_targ = next(iter(dataset))\n",
        "        self.max_target_len = sample_targ.shape[1]\n",
        "        self.max_input_len = sample_inp.shape[1]\n",
        "\n",
        "        template = \"\\nTrain Loss: {0:.4f} Train Accuracy: {1:.4f} Validation Loss: {2:.4f} Validation Accuracy: {3:.4f}\"\n",
        "\n",
        "        print(\"-\"*100)\n",
        "        for epoch in range(1, epochs+1):\n",
        "            print(f\"EPOCH {epoch}\\n\")\n",
        "\n",
        "            ## Training loop ##\n",
        "            total_loss = 0\n",
        "            total_acc = 0\n",
        "            self.metric.reset_state()\n",
        "\n",
        "            starting_time = time.time()\n",
        "            enc_state = self.encoder.initialize_hidden_state(self.batch_size)\n",
        "\n",
        "            print(\"Training ...\\n\")\n",
        "            for batch, (input, target) in enumerate(dataset.take(steps_per_epoch)):\n",
        "                batch_loss, acc = self.train_step(input, target, enc_state)\n",
        "                total_loss += batch_loss\n",
        "                total_acc += acc\n",
        "\n",
        "\n",
        "                if batch==0 or ((batch + 1) % 100 == 0):\n",
        "                    print(f\"Batch {batch+1} Loss {batch_loss:.4f}\")\n",
        "\n",
        "            avg_acc = total_acc / steps_per_epoch\n",
        "            avg_loss = total_loss / steps_per_epoch\n",
        "\n",
        "            # Validation loop ##\n",
        "            total_val_loss = 0\n",
        "            total_val_acc = 0\n",
        "            self.metric.reset_state()\n",
        "\n",
        "            enc_state = self.encoder.initialize_hidden_state(self.batch_size)\n",
        "\n",
        "            print(\"\\nValidating ...\")\n",
        "            for batch, (input, target) in enumerate(val_dataset.take(steps_per_epoch_val)):\n",
        "                batch_loss, acc = self.validation_step(input, target, enc_state)\n",
        "                total_val_loss += batch_loss\n",
        "                total_val_acc += acc\n",
        "\n",
        "            avg_val_acc = total_val_acc / steps_per_epoch_val\n",
        "            avg_val_loss = total_val_loss / steps_per_epoch_val\n",
        "\n",
        "            print(template.format(avg_loss, avg_acc*100, avg_val_loss, avg_val_acc*100))\n",
        "\n",
        "            time_taken = time.time() - starting_time\n",
        "            self.stats.append({\"epoch\": epoch,\n",
        "                            \"train loss\": avg_loss,\n",
        "                            \"val loss\": avg_val_loss,\n",
        "                            \"train acc\": avg_acc*100,\n",
        "                            \"val acc\": avg_val_acc*100,\n",
        "                            \"training time\": time_taken})\n",
        "\n",
        "            if use_wandb:\n",
        "                wandb.log(self.stats[-1])\n",
        "\n",
        "            print(f\"\\nTime taken for the epoch {time_taken:.4f}\")\n",
        "            print(\"-\"*100)\n",
        "\n",
        "        print(\"\\nModel trained successfully !!\")\n",
        "\n",
        "    def evaluate(self, test_dataset, batch_size=None):\n",
        "\n",
        "        if batch_size is not None:\n",
        "            self.batch_size = batch_size\n",
        "\n",
        "        steps_per_epoch_test = len(test_dataset) // batch_size\n",
        "        test_dataset = test_dataset.batch(batch_size, drop_remainder=True)\n",
        "\n",
        "        total_test_loss = 0\n",
        "        total_test_acc = 0\n",
        "        self.metric.reset_state()\n",
        "\n",
        "        enc_state = self.encoder.initialize_hidden_state(self.batch_size)\n",
        "\n",
        "        print(\"\\nRunning test dataset through the model...\\n\")\n",
        "        for batch, (input, target) in enumerate(test_dataset.take(steps_per_epoch_test)):\n",
        "            batch_loss, acc = self.validation_step(input, target, enc_state)\n",
        "            total_test_loss += batch_loss\n",
        "            total_test_acc += acc\n",
        "\n",
        "        avg_test_acc = total_test_acc / steps_per_epoch_test\n",
        "        avg_test_loss = total_test_loss / steps_per_epoch_test\n",
        "\n",
        "        print(f\"Test Loss: {avg_test_loss:.4f} Test Accuracy: {avg_test_acc:.4f}\")\n",
        "\n",
        "        return avg_test_loss, avg_test_acc\n",
        "\n",
        "\n",
        "    def translate(self, word, get_heatmap=False):\n",
        "\n",
        "        word = \"\\t\" + word + \"\\n\"\n",
        "\n",
        "        inputs = self.input_tokenizer.texts_to_sequences([word])\n",
        "        inputs = tf.keras.preprocessing.sequence.pad_sequences(inputs,\n",
        "                                                               maxlen=self.max_input_len,\n",
        "                                                               padding=\"post\")\n",
        "\n",
        "        result = \"\"\n",
        "        att_wts = []\n",
        "\n",
        "        enc_state = self.encoder.initialize_hidden_state(1)\n",
        "        enc_out, enc_state = self.encoder(inputs, enc_state)\n",
        "\n",
        "        dec_state = enc_state\n",
        "        dec_input = tf.expand_dims([self.targ_tokenizer.word_index[\"\\t\"]]*1, 1)\n",
        "\n",
        "        for t in range(1, self.max_target_len):\n",
        "\n",
        "            preds, dec_state, attention_weights = self.decoder(dec_input, dec_state, enc_out)\n",
        "\n",
        "            if get_heatmap:\n",
        "                att_wts.append(attention_weights)\n",
        "\n",
        "            preds = tf.argmax(preds, 1)\n",
        "            next_char = self.targ_tokenizer.index_word[preds.numpy().item()]\n",
        "            result += next_char\n",
        "\n",
        "            dec_input = tf.expand_dims(preds, 1)\n",
        "\n",
        "            if next_char == \"\\n\":\n",
        "                return result[:-1], att_wts[:-1]\n",
        "\n",
        "        return result[:-1], att_wts[:-1]\n",
        "\n",
        "    def plot_attention_heatmap(self, word, ax, font_path=\"/usr/share/fonts/truetype/lohit-devanagari/Lohit-Devanagari.ttf\"):\n",
        "\n",
        "        translated_word, attn_wts = self.translate(word, get_heatmap=True)\n",
        "        attn_heatmap = tf.squeeze(tf.concat(attn_wts, 0), -1).numpy()\n",
        "\n",
        "        input_word_len = len(word)\n",
        "        output_word_len = len(translated_word)\n",
        "\n",
        "        ax.imshow(attn_heatmap[:, :input_word_len])\n",
        "\n",
        "        font_prop = FontProperties(fname=font_path, size=18)\n",
        "\n",
        "        ax.set_xticks(np.arange(input_word_len))\n",
        "        ax.set_yticks(np.arange(output_word_len))\n",
        "\n",
        "        ax.set_xticklabels(list(word))\n",
        "        ax.set_yticklabels(list(translated_word), fontproperties=font_prop)\n"
      ],
      "execution_count": 13,
      "outputs": []
    },
    {
      "cell_type": "markdown",
      "metadata": {
        "id": "CSZFHEmw9KRw"
      },
      "source": [
        "# Visualizing Model Outputs"
      ]
    },
    {
      "cell_type": "code",
      "metadata": {
        "id": "LPPCBrHukCMZ"
      },
      "source": [
        "def get_colors(inputs, targets, preds):\n",
        "\n",
        "    n = len(targets)\n",
        "    smoother = SmoothingFunction().method2\n",
        "    def get_scores(target, output, smoother):\n",
        "        return sentence_bleu(list(list(target)), list(output), smoothing_function=smoother)\n",
        "\n",
        "    red = Color(\"red\")\n",
        "    colors = list(red.range_to(Color(\"violet\"),n))\n",
        "    colors = list(map(lambda c: c.hex, colors))\n",
        "\n",
        "    scores = []\n",
        "    for i in range(n):\n",
        "        scores.append(get_scores(targets[i], preds[i], smoother))\n",
        "\n",
        "    d = dict(zip(sorted(scores), list(range(n))))\n",
        "    ordered_colors = list(map(lambda x: colors[d[x]], scores))\n",
        "\n",
        "    input_colors = dict(zip(inputs, ordered_colors))\n",
        "    target_colors = dict(zip(targets, ordered_colors))\n",
        "    pred_colors = dict(zip(preds, ordered_colors))\n",
        "\n",
        "    return input_colors, target_colors, pred_colors\n",
        "\n",
        "\n",
        "class Colorizer():\n",
        "    def __init__(self, word_to_color, default_color):\n",
        "\n",
        "        self.word_to_color = word_to_color\n",
        "        self.default_color = default_color\n",
        "\n",
        "    def __call__(self, word, **kwargs):\n",
        "        return self.word_to_color.get(word, self.default_color)\n",
        "\n",
        "def randomly_evaluate(model, test_file=get_data_files(\"hi\")[2], n=10):\n",
        "\n",
        "    df = pd.read_csv(test_file, sep=\"\\t\", header=None)\n",
        "    df = df.sample(n=n).reset_index(drop=True)\n",
        "\n",
        "    print(f\"Randomly evaluating the model on {n} words\\n\")\n",
        "\n",
        "    for i in range(n):\n",
        "        word = str(df[1][i])\n",
        "\n",
        "        print(f\"Input word: {word}\")\n",
        "        print(f\"Actual translation: {str(df[0][i])}\")\n",
        "        print(f\"Model translation: {model.translate(word)[0]}\\n\")\n",
        "\n",
        "def visualize_model_outputs(model, test_file=get_data_files(\"hi\")[2], n=10, font_path=\"/usr/share/fonts/truetype/lohit-devanagari/Lohit-Devanagari.ttf\"):\n",
        "\n",
        "    df = pd.read_csv(test_file, sep=\"\\t\", header=None)\n",
        "    df = df.sample(n=n).reset_index(drop=True)\n",
        "\n",
        "    inputs = df[1].astype(str).tolist()\n",
        "    targets = df[0].astype(str).tolist()\n",
        "    preds = list(map(lambda word: model.translate(word)[0], inputs))\n",
        "\n",
        "    # Generate colors for the words\n",
        "    input_colors, target_colors, pred_colors =  get_colors(inputs, targets, preds)\n",
        "    color_fn_ip = Colorizer(input_colors, \"white\")\n",
        "    color_fn_tr = Colorizer(target_colors, \"white\")\n",
        "    color_fn_op = Colorizer(pred_colors, \"white\")\n",
        "\n",
        "    input_text = Counter(inputs)\n",
        "    target_text = Counter(targets)\n",
        "    output_text = Counter(preds)\n",
        "\n",
        "    fig, axs = plt.subplots(1,3, figsize=(30, 15))\n",
        "    plt.tight_layout()\n",
        "\n",
        "    wc_in = WordCloud(random_state=1).generate_from_frequencies(input_text)\n",
        "    wc_out = WordCloud(font_path=font_path, random_state=1).generate_from_frequencies(output_text)\n",
        "    wc_tar = WordCloud(font_path=font_path, random_state=1).generate_from_frequencies(target_text)\n",
        "\n",
        "    axs[0].set_title(\"Input words\", fontsize=30)\n",
        "    axs[0].imshow(wc_in.recolor(color_func=color_fn_ip))\n",
        "    axs[1].set_title(\"Target words\", fontsize=30)\n",
        "    axs[1].imshow(wc_tar.recolor(color_func=color_fn_tr))\n",
        "    axs[2].set_title(\"Model outputs\", fontsize=30)\n",
        "    axs[2].imshow(wc_out.recolor(color_func=color_fn_op))\n",
        "    plt.show()\n",
        "\n",
        "\n",
        "\n",
        "def test_on_dataset(language, embedding_dim, encoder_layers, decoder_layers, layer_type, units, dropout, attention, teacher_forcing_ratio=1.0, save_outputs=None):\n",
        "\n",
        "    TRAIN_TSV, VAL_TSV, TEST_TSV = get_data_files(language)\n",
        "\n",
        "    model = Seq2SeqModel(embedding_dim,\n",
        "                         encoder_layers,\n",
        "                         decoder_layers,\n",
        "                         layer_type,\n",
        "                         units,\n",
        "                         dropout,\n",
        "                         attention)\n",
        "\n",
        "    dataset, input_tokenizer, targ_tokenizer = preprocess_data(TRAIN_TSV)\n",
        "    val_dataset, _, _ = preprocess_data(VAL_TSV, input_tokenizer, targ_tokenizer)\n",
        "\n",
        "    model.set_vocabulary(input_tokenizer, targ_tokenizer)\n",
        "    model.build(loss=tf.keras.losses.SparseCategoricalCrossentropy(),\n",
        "                optimizer = tf.keras.optimizers.Adam(),\n",
        "                metric = tf.keras.metrics.SparseCategoricalAccuracy())\n",
        "\n",
        "    model.fit(dataset, val_dataset, epochs=10, use_wandb=False, teacher_forcing_ratio=teacher_forcing_ratio)\n",
        "\n",
        "    ## Character level accuracy ##\n",
        "    test_dataset, _, _ = preprocess_data(TEST_TSV, model.input_tokenizer, model.targ_tokenizer)\n",
        "    test_loss, test_acc = model.evaluate(test_dataset, batch_size=100)\n",
        "\n",
        "    ##  Word level accuracy ##\n",
        "    test_tsv = pd.read_csv(TEST_TSV, sep=\"\\t\", header=None)\n",
        "    inputs = test_tsv[1].astype(str).tolist()\n",
        "    targets = test_tsv[0].astype(str).tolist()\n",
        "\n",
        "    outputs = []\n",
        "\n",
        "    for word in inputs:\n",
        "        outputs.append(model.translate(word)[0])\n",
        "\n",
        "    def word_level_acc(outputs, targets):\n",
        "        return np.sum(np.asarray(outputs) == np.array(targets)) / len(outputs)\n",
        "\n",
        "    print(f\"Word level accuracy: {word_level_acc(outputs, targets)}\")\n",
        "\n",
        "    if save_outputs is not None:\n",
        "        df = pd.DataFrame()\n",
        "        df[\"inputs\"] = inputs\n",
        "        df[\"targets\"] = targets\n",
        "        df[\"outputs\"] = outputs\n",
        "        df.to_csv(save_outputs)\n",
        "\n",
        "\n",
        "    return model\n",
        "\n",
        "#randomly_evaluate(model, n=15)"
      ],
      "execution_count": 14,
      "outputs": []
    },
    {
      "cell_type": "markdown",
      "metadata": {
        "id": "tvVSaWfGYvvn"
      },
      "source": [
        "# Visualizing Model Connectivity (Q6)"
      ]
    },
    {
      "cell_type": "code",
      "metadata": {
        "id": "OeWT7Yno7LXd"
      },
      "source": [
        "# Tools for getting model connectivity between input and output characters\n",
        "def get_lstm_output_a(decoder, x, hidden, enc_out=None):\n",
        "\n",
        "    x = decoder.embedding_layer(x)\n",
        "\n",
        "    if decoder.attention:\n",
        "        context_vector, attention_weights = decoder.attention_layer(hidden, enc_out)\n",
        "        x = tf.concat([tf.expand_dims(context_vector, 1), x], -1)\n",
        "    else:\n",
        "        attention_weights = None\n",
        "\n",
        "    x = decoder.rnn_layers[0](x, initial_state=hidden)\n",
        "\n",
        "    for layer in decoder.rnn_layers[1:]:\n",
        "        x = layer(x)\n",
        "\n",
        "    output, state = x[0], x[1:]\n",
        "\n",
        "    #output = decoder.dense(decoder.flatten(output))\n",
        "\n",
        "    return output, state, attention_weights\n",
        "\n",
        "def get_lstm_output(decoder, x, hidden, enc_out=None):\n",
        "    x = decoder.embedding_layer(x)\n",
        "\n",
        "    if decoder.attention:\n",
        "        context_vector, attention_weights = decoder.attention_layer(hidden, enc_out)\n",
        "        x = tf.concat([tf.expand_dims(context_vector, 1), x], -1)\n",
        "    else:\n",
        "        attention_weights = None\n",
        "\n",
        "    # First layer with initial state\n",
        "    x, h, c = decoder.rnn_layers[0](x, initial_state=hidden)\n",
        "    state = [h, c]\n",
        "\n",
        "    # Remaining layers\n",
        "    for layer in decoder.rnn_layers[1:]:\n",
        "        x, h, c = layer(x)\n",
        "        state = [h, c]  # keep the last layer's state\n",
        "\n",
        "    return x, state, attention_weights\n",
        "\n",
        "def get_output_from_embedding(encoder, x, hidden):\n",
        "    print(\"Calling LSTM with:\", type(x), x.shape)\n",
        "    print(\"Hidden is:\", type(hidden), [h.shape for h in hidden])\n",
        "    # x = encoder.rnn_layers[0](x, initial_state=hidden)\n",
        "\n",
        "    # for layer in encoder.rnn_layers[1:]:\n",
        "    #     x = layer(x)\n",
        "\n",
        "    # output, state = x[0], x[1:]\n",
        "\n",
        "    # return output, state\n",
        "\n",
        "    # Unpack the first layer's outputs properly\n",
        "    x, h, c = encoder.rnn_layers[0](x, initial_state=hidden)\n",
        "    state = [h, c]\n",
        "\n",
        "    # Only pass the actual output to the next layers\n",
        "    for layer in encoder.rnn_layers[1:]:\n",
        "        x, h, c = layer(x)\n",
        "        state = [h, c]\n",
        "\n",
        "    return x, state\n",
        "\n",
        "\n",
        "def get_connectivity(model, word):\n",
        "\n",
        "    word = \"\\t\" + word + \"\\n\"\n",
        "\n",
        "    inputs = model.input_tokenizer.texts_to_sequences([word])\n",
        "    inputs = tf.keras.preprocessing.sequence.pad_sequences(inputs,\n",
        "                                                            maxlen=model.max_input_len,\n",
        "                                                            padding=\"post\")\n",
        "\n",
        "    result = \"\"\n",
        "\n",
        "    gradient_list = []\n",
        "\n",
        "    enc_state = model.encoder.initialize_hidden_state(1)\n",
        "    embedded_in = model.encoder.embedding(inputs)\n",
        "\n",
        "\n",
        "    with tf.GradientTape(persistent=True, watch_accessed_variables=False) as tape:\n",
        "        tape.watch(embedded_in)\n",
        "\n",
        "        enc_out, enc_state = get_output_from_embedding(model.encoder, embedded_in, enc_state)\n",
        "\n",
        "        dec_state = enc_state\n",
        "        dec_input = tf.expand_dims([model.targ_tokenizer.word_index[\"\\t\"]]*1, 1)\n",
        "\n",
        "        for t in range(1, model.max_target_len):\n",
        "\n",
        "            lstm_out, dec_state, _ = get_lstm_output(model.decoder, dec_input, dec_state, enc_out)\n",
        "\n",
        "            preds = model.decoder.dense(model.decoder.flatten(lstm_out))\n",
        "            gradient_list.append(tape.gradient(lstm_out, embedded_in)[0])\n",
        "\n",
        "            preds = tf.argmax(preds, 1)\n",
        "            next_char = model.targ_tokenizer.index_word[preds.numpy().item()]\n",
        "            result += next_char\n",
        "\n",
        "            dec_input = tf.expand_dims(preds, 1)\n",
        "\n",
        "            if next_char == \"\\n\":\n",
        "                return result[:-1], gradient_list[:-1]\n",
        "\n",
        "        return result[:-1], gradient_list[:-1]\n"
      ],
      "execution_count": 15,
      "outputs": []
    },
    {
      "cell_type": "code",
      "metadata": {
        "id": "22kfP4uvp63B"
      },
      "source": [
        "# Imports for visualising the model connectivity\n",
        "from sklearn.preprocessing import MinMaxScaler\n",
        "from keras.callbacks import ModelCheckpoint\n",
        "# from keras.utils import np_utils\n",
        "\n",
        "from IPython.display import HTML as html_print\n",
        "from IPython.display import display\n",
        "import tensorflow.keras.backend as K\n",
        "\n",
        "# get html element\n",
        "def cstr(s, color='black'):\n",
        "    if s == ' ':\n",
        "      return \"<text style=color:#000;padding-left:10px;background-color:{}> </text>\".format(color, s)\n",
        "    else:\n",
        "      return \"<text style=color:#000;background-color:{}>{} </text>\".format(color, s)\n",
        "\n",
        "# print html\n",
        "def print_color(t):\n",
        "\t  display(html_print(''.join([cstr(ti, color=ci) for ti,ci in t])))\n",
        "\n",
        "# get appropriate color for value\n",
        "def get_clr(value):\n",
        "    colors = ['#85c2e1', '#89c4e2', '#95cae5', '#99cce6', '#a1d0e8'\n",
        "      '#b2d9ec', '#baddee', '#c2e1f0', '#eff7fb', '#f9e8e8',\n",
        "      '#f9e8e8', '#f9d4d4', '#f9bdbd', '#f8a8a8', '#f68f8f',\n",
        "      '#f47676', '#f45f5f', '#f34343', '#f33b3b', '#f42e2e']\n",
        "    value = int(value * 19)\n",
        "    if value == 19:\n",
        "        value -= 1\n",
        "    return colors[value]\n",
        "\n",
        "# sigmoid function\n",
        "def sigmoid(x):\n",
        "    z = 1/(1 + np.exp(-x))\n",
        "    return z\n",
        "\n",
        "def softmax(x):\n",
        "    v = np.exp(x)\n",
        "    v = v / np.sum(v)\n",
        "    return v\n",
        "\n",
        "def get_gradient_norms(grad_list, word, activation=\"sigmoid\"):\n",
        "    grad_norms = []\n",
        "    for grad_tensor in grad_list:\n",
        "        grad_mags = tf.norm(grad_tensor, axis=1)\n",
        "        grad_mags = grad_mags[:len(word)]\n",
        "        if activation == \"softmax\":\n",
        "            grad_mags_scaled = softmax(grad_mags)\n",
        "        elif activation == \"scaler\":\n",
        "            scaler = MinMaxScaler()\n",
        "            grad_mags = tf.reshape(grad_mags, (-1,1))\n",
        "            grad_mags_scaled = scaler.fit_transform(grad_mags)\n",
        "        else:\n",
        "            grad_mags_scaled = sigmoid(grad_mags)\n",
        "        grad_norms.append(grad_mags_scaled)\n",
        "    return grad_norms\n",
        "\n",
        "def visualize(grad_norms, word, translated_word):\n",
        "    print(\"Original Word:\", word)\n",
        "    print(\"Transliterated Word:\", translated_word)\n",
        "    for i in range(len(translated_word)):\n",
        "        print(\"Connectivity Visualization for\", translated_word[i],\":\")\n",
        "        text_colours = []\n",
        "        for j in range(len(grad_norms[i])):\n",
        "            text = (word[j], get_clr(grad_norms[i][j]))\n",
        "            text_colours.append(text)\n",
        "        print_color(text_colours)\n",
        "\n",
        "def visualise_connectivity(model, word, activation=\"sigmoid\"):\n",
        "    translated_word, grad_list = get_connectivity(model, word)\n",
        "    grad_norms = get_gradient_norms(grad_list, word, activation)\n",
        "    visualize(grad_norms, word, translated_word)"
      ],
      "execution_count": 16,
      "outputs": []
    },
    {
      "cell_type": "code",
      "metadata": {
        "id": "kzkdsWRlZzTf",
        "colab": {
          "base_uri": "https://localhost:8080/"
        },
        "outputId": "599f15d7-03cb-44b6-b8ad-f9581d48cbd8"
      },
      "source": [
        "model = test_on_dataset(language=\"hi\",\n",
        "                        embedding_dim=256,\n",
        "                        encoder_layers=3,\n",
        "                        decoder_layers=3,\n",
        "                        layer_type=\"lstm\",\n",
        "                        units=256,\n",
        "                        dropout=0.2,\n",
        "                        attention=True,\n",
        "                        save_outputs= \"Eng_to_Hin_With_att.csv\")"
      ],
      "execution_count": 17,
      "outputs": [
        {
          "output_type": "stream",
          "name": "stdout",
          "text": [
            "----------------------------------------------------------------------------------------------------\n",
            "EPOCH 1\n",
            "\n",
            "Training ...\n",
            "\n"
          ]
        },
        {
          "output_type": "stream",
          "name": "stderr",
          "text": [
            "/usr/local/lib/python3.11/dist-packages/keras/src/optimizers/base_optimizer.py:774: UserWarning: Gradients do not exist for variables ['seed_generator/seed_generator_state', 'seed_generator_1/seed_generator_state', 'seed_generator_2/seed_generator_state', 'seed_generator_3/seed_generator_state', 'seed_generator_4/seed_generator_state', 'seed_generator_5/seed_generator_state'] when minimizing the loss. If using `model.compile()`, did you forget to provide a `loss` argument?\n",
            "  warnings.warn(\n"
          ]
        },
        {
          "output_type": "stream",
          "name": "stdout",
          "text": [
            "Batch 1 Loss 3.9901\n",
            "Batch 100 Loss 1.1834\n",
            "Batch 200 Loss 1.0549\n",
            "Batch 300 Loss 0.9827\n",
            "\n",
            "Validating ...\n",
            "\n",
            "Train Loss: 1.2051 Train Accuracy: 65.4173 Validation Loss: 2.6436 Validation Accuracy: 57.0710\n",
            "\n",
            "Time taken for the epoch 83.1516\n",
            "----------------------------------------------------------------------------------------------------\n",
            "EPOCH 2\n",
            "\n",
            "Training ...\n",
            "\n",
            "Batch 1 Loss 1.0017\n",
            "Batch 100 Loss 1.0326\n",
            "Batch 200 Loss 0.9730\n",
            "Batch 300 Loss 0.9877\n",
            "\n",
            "Validating ...\n",
            "\n",
            "Train Loss: 0.9830 Train Accuracy: 71.6718 Validation Loss: 2.6014 Validation Accuracy: 55.7715\n",
            "\n",
            "Time taken for the epoch 32.6782\n",
            "----------------------------------------------------------------------------------------------------\n",
            "EPOCH 3\n",
            "\n",
            "Training ...\n",
            "\n",
            "Batch 1 Loss 0.9283\n",
            "Batch 100 Loss 0.9448\n",
            "Batch 200 Loss 0.9228\n",
            "Batch 300 Loss 0.8997\n",
            "\n",
            "Validating ...\n",
            "\n",
            "Train Loss: 0.9483 Train Accuracy: 72.7000 Validation Loss: 2.5028 Validation Accuracy: 52.3507\n",
            "\n",
            "Time taken for the epoch 35.5840\n",
            "----------------------------------------------------------------------------------------------------\n",
            "EPOCH 4\n",
            "\n",
            "Training ...\n",
            "\n",
            "Batch 1 Loss 0.9500\n",
            "Batch 100 Loss 0.9102\n",
            "Batch 200 Loss 0.8888\n",
            "Batch 300 Loss 0.8867\n",
            "\n",
            "Validating ...\n",
            "\n",
            "Train Loss: 0.8776 Train Accuracy: 74.2859 Validation Loss: 2.6829 Validation Accuracy: 50.0545\n",
            "\n",
            "Time taken for the epoch 34.5696\n",
            "----------------------------------------------------------------------------------------------------\n",
            "EPOCH 5\n",
            "\n",
            "Training ...\n",
            "\n",
            "Batch 1 Loss 0.8584\n",
            "Batch 100 Loss 0.8288\n",
            "Batch 200 Loss 0.7404\n",
            "Batch 300 Loss 0.6695\n",
            "\n",
            "Validating ...\n",
            "\n",
            "Train Loss: 0.7744 Train Accuracy: 76.2270 Validation Loss: 2.2330 Validation Accuracy: 58.1936\n",
            "\n",
            "Time taken for the epoch 33.5650\n",
            "----------------------------------------------------------------------------------------------------\n",
            "EPOCH 6\n",
            "\n",
            "Training ...\n",
            "\n",
            "Batch 1 Loss 0.6920\n",
            "Batch 100 Loss 0.6848\n",
            "Batch 200 Loss 0.5376\n",
            "Batch 300 Loss 0.4766\n",
            "\n",
            "Validating ...\n",
            "\n",
            "Train Loss: 0.5633 Train Accuracy: 80.8431 Validation Loss: 1.7263 Validation Accuracy: 69.4924\n",
            "\n",
            "Time taken for the epoch 34.1361\n",
            "----------------------------------------------------------------------------------------------------\n",
            "EPOCH 7\n",
            "\n",
            "Training ...\n",
            "\n",
            "Batch 1 Loss 0.4434\n",
            "Batch 100 Loss 0.4156\n",
            "Batch 200 Loss 0.3571\n",
            "Batch 300 Loss 0.3697\n",
            "\n",
            "Validating ...\n",
            "\n",
            "Train Loss: 0.3753 Train Accuracy: 86.9205 Validation Loss: 1.5066 Validation Accuracy: 76.1980\n",
            "\n",
            "Time taken for the epoch 35.1722\n",
            "----------------------------------------------------------------------------------------------------\n",
            "EPOCH 8\n",
            "\n",
            "Training ...\n",
            "\n",
            "Batch 1 Loss 0.3221\n",
            "Batch 100 Loss 0.3040\n",
            "Batch 200 Loss 0.2901\n",
            "Batch 300 Loss 0.2655\n",
            "\n",
            "Validating ...\n",
            "\n",
            "Train Loss: 0.2816 Train Accuracy: 90.3038 Validation Loss: 1.4383 Validation Accuracy: 78.4481\n",
            "\n",
            "Time taken for the epoch 33.8175\n",
            "----------------------------------------------------------------------------------------------------\n",
            "EPOCH 9\n",
            "\n",
            "Training ...\n",
            "\n",
            "Batch 1 Loss 0.2365\n",
            "Batch 100 Loss 0.2261\n",
            "Batch 200 Loss 0.2209\n",
            "Batch 300 Loss 0.2262\n",
            "\n",
            "Validating ...\n",
            "\n",
            "Train Loss: 0.2284 Train Accuracy: 92.3145 Validation Loss: 1.3590 Validation Accuracy: 79.8571\n",
            "\n",
            "Time taken for the epoch 34.2185\n",
            "----------------------------------------------------------------------------------------------------\n",
            "EPOCH 10\n",
            "\n",
            "Training ...\n",
            "\n",
            "Batch 1 Loss 0.2342\n",
            "Batch 100 Loss 0.2172\n",
            "Batch 200 Loss 0.1899\n",
            "Batch 300 Loss 0.2014\n",
            "\n",
            "Validating ...\n",
            "\n",
            "Train Loss: 0.1977 Train Accuracy: 93.3527 Validation Loss: 1.3451 Validation Accuracy: 80.7378\n",
            "\n",
            "Time taken for the epoch 34.3267\n",
            "----------------------------------------------------------------------------------------------------\n",
            "\n",
            "Model trained successfully !!\n",
            "\n",
            "Running test dataset through the model...\n",
            "\n",
            "Test Loss: 1.2540 Test Accuracy: 0.8185\n",
            "Word level accuracy: 0.28476232785428696\n"
          ]
        }
      ]
    },
    {
      "cell_type": "code",
      "metadata": {
        "colab": {
          "base_uri": "https://localhost:8080/",
          "height": 224
        },
        "id": "zIsAhuh5fctn",
        "outputId": "e98e160f-d477-4440-c720-f2ac6ced0777"
      },
      "source": [
        "visualize_model_outputs(model, n=10)"
      ],
      "execution_count": 18,
      "outputs": [
        {
          "output_type": "display_data",
          "data": {
            "text/plain": [
              "<Figure size 3000x1500 with 3 Axes>"
            ],
            "image/png": "[encoded data removed]"
          },
          "metadata": {}
        }
      ]
    },
    {
      "cell_type": "code",
      "metadata": {
        "colab": {
          "base_uri": "https://localhost:8080/"
        },
        "id": "sgY9jxQo2I1Q",
        "outputId": "fa9aea26-31cd-40b9-83f1-b3df099b2dec"
      },
      "source": [
        "def get_test_words(n):\n",
        "    test_df = pd.read_csv(get_data_files(\"hi\")[2])\n",
        "    test_sample = test_df.sample(n)\n",
        "    test_sample.reset_index(inplace=True, drop=True)\n",
        "    test_words = []\n",
        "    for i in test_sample.index:\n",
        "        entry = test_sample[\"अंक\\tank\\t5\"].loc[i]\n",
        "        parts = entry.split(\"\\t\")\n",
        "        word = parts[1]\n",
        "        test_words.append(word)\n",
        "    return test_words\n",
        "\n",
        "test_words = get_test_words(5)\n",
        "print(test_words)"
      ],
      "execution_count": 19,
      "outputs": [
        {
          "output_type": "stream",
          "name": "stdout",
          "text": [
            "['abvp', 'larry', 'shrimati', 'avegyanik', 'praudh']\n"
          ]
        }
      ]
    },
    {
      "cell_type": "code",
      "source": [
        "fig, ax= plt.subplots(figsize=(10,8))\n",
        "model.plot_attention_heatmap('larry', ax)"
      ],
      "metadata": {
        "colab": {
          "base_uri": "https://localhost:8080/",
          "height": 823
        },
        "id": "G3EqkOoowvVW",
        "outputId": "26c474c9-9507-499e-b0f6-f36b1dcae1b6"
      },
      "execution_count": 12,
      "outputs": [
        {
          "output_type": "error",
          "ename": "NameError",
          "evalue": "name 'model' is not defined",
          "traceback": [
            "\u001b[0;31m---------------------------------------------------------------------------\u001b[0m",
            "\u001b[0;31mNameError\u001b[0m                                 Traceback (most recent call last)",
            "\u001b[0;32m<ipython-input-12-900972eedf67>\u001b[0m in \u001b[0;36m<cell line: 0>\u001b[0;34m()\u001b[0m\n\u001b[1;32m      1\u001b[0m \u001b[0mfig\u001b[0m\u001b[0;34m,\u001b[0m \u001b[0max\u001b[0m\u001b[0;34m=\u001b[0m \u001b[0mplt\u001b[0m\u001b[0;34m.\u001b[0m\u001b[0msubplots\u001b[0m\u001b[0;34m(\u001b[0m\u001b[0mfigsize\u001b[0m\u001b[0;34m=\u001b[0m\u001b[0;34m(\u001b[0m\u001b[0;36m10\u001b[0m\u001b[0;34m,\u001b[0m\u001b[0;36m8\u001b[0m\u001b[0;34m)\u001b[0m\u001b[0;34m)\u001b[0m\u001b[0;34m\u001b[0m\u001b[0;34m\u001b[0m\u001b[0m\n\u001b[0;32m----> 2\u001b[0;31m \u001b[0mmodel\u001b[0m\u001b[0;34m.\u001b[0m\u001b[0mplot_attention_heatmap\u001b[0m\u001b[0;34m(\u001b[0m\u001b[0;34m'larry'\u001b[0m\u001b[0;34m,\u001b[0m \u001b[0max\u001b[0m\u001b[0;34m)\u001b[0m\u001b[0;34m\u001b[0m\u001b[0;34m\u001b[0m\u001b[0m\n\u001b[0m",
            "\u001b[0;31mNameError\u001b[0m: name 'model' is not defined"
          ]
        },
        {
          "output_type": "display_data",
          "data": {
            "text/plain": [
              "<Figure size 1000x800 with 1 Axes>"
            ],
            "image/png": "[encoded data removed]"
          },
          "metadata": {}
        }
      ]
    },
    {
      "cell_type": "code",
      "metadata": {
        "id": "pgDA-bWL1ueE",
        "colab": {
          "base_uri": "https://localhost:8080/",
          "height": 1000
        },
        "outputId": "772e5e18-2da6-4629-b08f-03a8462e12b5"
      },
      "source": [
        "for word in test_words:\n",
        "    visualise_connectivity(model, word, activation=\"scaler\")"
      ],
      "execution_count": 20,
      "outputs": [
        {
          "output_type": "stream",
          "name": "stderr",
          "text": [
            "WARNING:tensorflow:Calling GradientTape.gradient on a persistent tape inside its context is significantly less efficient than calling it outside the context (it causes the gradient ops to be recorded on the tape, leading to increased CPU and memory usage). Only call GradientTape.gradient inside the context if you actually want to trace the gradient in order to compute higher order derivatives.\n"
          ]
        },
        {
          "output_type": "stream",
          "name": "stdout",
          "text": [
            "Calling LSTM with: <class 'tensorflow.python.framework.ops.EagerTensor'> (1, 22, 256)\n",
            "Hidden is: <class 'list'> [TensorShape([1, 256]), TensorShape([1, 256])]\n",
            "Original Word: abvp\n",
            "Transliterated Word: एब्वप\n",
            "Connectivity Visualization for ए :\n"
          ]
        },
        {
          "output_type": "stream",
          "name": "stderr",
          "text": [
            "<ipython-input-16-a3beb7fceb7f>:27: DeprecationWarning: Conversion of an array with ndim > 0 to a scalar is deprecated, and will error in future. Ensure you extract a single element from your array before performing this operation. (Deprecated NumPy 1.25.)\n",
            "  value = int(value * 19)\n"
          ]
        },
        {
          "output_type": "display_data",
          "data": {
            "text/plain": [
              "<IPython.core.display.HTML object>"
            ],
            "text/html": [
              "<text style=color:#000;background-color:#f42e2e>a </text><text style=color:#000;background-color:#89c4e2>b </text><text style=color:#000;background-color:#85c2e1>v </text><text style=color:#000;background-color:#85c2e1>p </text>"
            ]
          },
          "metadata": {}
        },
        {
          "output_type": "stream",
          "name": "stdout",
          "text": [
            "Connectivity Visualization for ब :\n"
          ]
        },
        {
          "output_type": "display_data",
          "data": {
            "text/plain": [
              "<IPython.core.display.HTML object>"
            ],
            "text/html": [
              "<text style=color:#000;background-color:#85c2e1>a </text><text style=color:#000;background-color:#85c2e1>b </text><text style=color:#000;background-color:#f42e2e>v </text><text style=color:#000;background-color:#85c2e1>p </text>"
            ]
          },
          "metadata": {}
        },
        {
          "output_type": "stream",
          "name": "stdout",
          "text": [
            "Connectivity Visualization for ् :\n"
          ]
        },
        {
          "output_type": "display_data",
          "data": {
            "text/plain": [
              "<IPython.core.display.HTML object>"
            ],
            "text/html": [
              "<text style=color:#000;background-color:#85c2e1>a </text><text style=color:#000;background-color:#85c2e1>b </text><text style=color:#000;background-color:#85c2e1>v </text><text style=color:#000;background-color:#85c2e1>p </text>"
            ]
          },
          "metadata": {}
        },
        {
          "output_type": "stream",
          "name": "stdout",
          "text": [
            "Connectivity Visualization for व :\n"
          ]
        },
        {
          "output_type": "display_data",
          "data": {
            "text/plain": [
              "<IPython.core.display.HTML object>"
            ],
            "text/html": [
              "<text style=color:#000;background-color:#85c2e1>a </text><text style=color:#000;background-color:#85c2e1>b </text><text style=color:#000;background-color:#85c2e1>v </text><text style=color:#000;background-color:#85c2e1>p </text>"
            ]
          },
          "metadata": {}
        },
        {
          "output_type": "stream",
          "name": "stdout",
          "text": [
            "Connectivity Visualization for प :\n"
          ]
        },
        {
          "output_type": "display_data",
          "data": {
            "text/plain": [
              "<IPython.core.display.HTML object>"
            ],
            "text/html": [
              "<text style=color:#000;background-color:#85c2e1>a </text><text style=color:#000;background-color:#85c2e1>b </text><text style=color:#000;background-color:#85c2e1>v </text><text style=color:#000;background-color:#85c2e1>p </text>"
            ]
          },
          "metadata": {}
        },
        {
          "output_type": "stream",
          "name": "stdout",
          "text": [
            "Calling LSTM with: <class 'tensorflow.python.framework.ops.EagerTensor'> (1, 22, 256)\n",
            "Hidden is: <class 'list'> [TensorShape([1, 256]), TensorShape([1, 256])]\n",
            "Original Word: larry\n",
            "Transliterated Word: लारी\n",
            "Connectivity Visualization for ल :\n"
          ]
        },
        {
          "output_type": "stream",
          "name": "stderr",
          "text": [
            "<ipython-input-16-a3beb7fceb7f>:27: DeprecationWarning: Conversion of an array with ndim > 0 to a scalar is deprecated, and will error in future. Ensure you extract a single element from your array before performing this operation. (Deprecated NumPy 1.25.)\n",
            "  value = int(value * 19)\n"
          ]
        },
        {
          "output_type": "display_data",
          "data": {
            "text/plain": [
              "<IPython.core.display.HTML object>"
            ],
            "text/html": [
              "<text style=color:#000;background-color:#f8a8a8>l </text><text style=color:#000;background-color:#95cae5>a </text><text style=color:#000;background-color:#85c2e1>r </text><text style=color:#000;background-color:#99cce6>r </text><text style=color:#000;background-color:#f42e2e>y </text>"
            ]
          },
          "metadata": {}
        },
        {
          "output_type": "stream",
          "name": "stdout",
          "text": [
            "Connectivity Visualization for ा :\n"
          ]
        },
        {
          "output_type": "display_data",
          "data": {
            "text/plain": [
              "<IPython.core.display.HTML object>"
            ],
            "text/html": [
              "<text style=color:#000;background-color:#85c2e1>l </text><text style=color:#000;background-color:#85c2e1>a </text><text style=color:#000;background-color:#85c2e1>r </text><text style=color:#000;background-color:#f42e2e>r </text><text style=color:#000;background-color:#c2e1f0>y </text>"
            ]
          },
          "metadata": {}
        },
        {
          "output_type": "stream",
          "name": "stdout",
          "text": [
            "Connectivity Visualization for र :\n"
          ]
        },
        {
          "output_type": "display_data",
          "data": {
            "text/plain": [
              "<IPython.core.display.HTML object>"
            ],
            "text/html": [
              "<text style=color:#000;background-color:#85c2e1>l </text><text style=color:#000;background-color:#85c2e1>a </text><text style=color:#000;background-color:#85c2e1>r </text><text style=color:#000;background-color:#85c2e1>r </text><text style=color:#000;background-color:#85c2e1>y </text>"
            ]
          },
          "metadata": {}
        },
        {
          "output_type": "stream",
          "name": "stdout",
          "text": [
            "Connectivity Visualization for ी :\n"
          ]
        },
        {
          "output_type": "display_data",
          "data": {
            "text/plain": [
              "<IPython.core.display.HTML object>"
            ],
            "text/html": [
              "<text style=color:#000;background-color:#85c2e1>l </text><text style=color:#000;background-color:#85c2e1>a </text><text style=color:#000;background-color:#85c2e1>r </text><text style=color:#000;background-color:#85c2e1>r </text><text style=color:#000;background-color:#85c2e1>y </text>"
            ]
          },
          "metadata": {}
        },
        {
          "output_type": "stream",
          "name": "stdout",
          "text": [
            "Calling LSTM with: <class 'tensorflow.python.framework.ops.EagerTensor'> (1, 22, 256)\n",
            "Hidden is: <class 'list'> [TensorShape([1, 256]), TensorShape([1, 256])]\n",
            "Original Word: shrimati\n",
            "Transliterated Word: श्रिमती\n",
            "Connectivity Visualization for श :\n"
          ]
        },
        {
          "output_type": "stream",
          "name": "stderr",
          "text": [
            "<ipython-input-16-a3beb7fceb7f>:27: DeprecationWarning: Conversion of an array with ndim > 0 to a scalar is deprecated, and will error in future. Ensure you extract a single element from your array before performing this operation. (Deprecated NumPy 1.25.)\n",
            "  value = int(value * 19)\n"
          ]
        },
        {
          "output_type": "display_data",
          "data": {
            "text/plain": [
              "<IPython.core.display.HTML object>"
            ],
            "text/html": [
              "<text style=color:#000;background-color:#f9e8e8>s </text><text style=color:#000;background-color:#f42e2e>h </text><text style=color:#000;background-color:#95cae5>r </text><text style=color:#000;background-color:#95cae5>i </text><text style=color:#000;background-color:#85c2e1>m </text><text style=color:#000;background-color:#baddee>a </text><text style=color:#000;background-color:#89c4e2>t </text><text style=color:#000;background-color:#f34343>i </text>"
            ]
          },
          "metadata": {}
        },
        {
          "output_type": "stream",
          "name": "stdout",
          "text": [
            "Connectivity Visualization for ् :\n"
          ]
        },
        {
          "output_type": "display_data",
          "data": {
            "text/plain": [
              "<IPython.core.display.HTML object>"
            ],
            "text/html": [
              "<text style=color:#000;background-color:#85c2e1>s </text><text style=color:#000;background-color:#89c4e2>h </text><text style=color:#000;background-color:#89c4e2>r </text><text style=color:#000;background-color:#f42e2e>i </text><text style=color:#000;background-color:#89c4e2>m </text><text style=color:#000;background-color:#89c4e2>a </text><text style=color:#000;background-color:#85c2e1>t </text><text style=color:#000;background-color:#85c2e1>i </text>"
            ]
          },
          "metadata": {}
        },
        {
          "output_type": "stream",
          "name": "stdout",
          "text": [
            "Connectivity Visualization for र :\n"
          ]
        },
        {
          "output_type": "display_data",
          "data": {
            "text/plain": [
              "<IPython.core.display.HTML object>"
            ],
            "text/html": [
              "<text style=color:#000;background-color:#85c2e1>s </text><text style=color:#000;background-color:#85c2e1>h </text><text style=color:#000;background-color:#85c2e1>r </text><text style=color:#000;background-color:#85c2e1>i </text><text style=color:#000;background-color:#85c2e1>m </text><text style=color:#000;background-color:#85c2e1>a </text><text style=color:#000;background-color:#85c2e1>t </text><text style=color:#000;background-color:#85c2e1>i </text>"
            ]
          },
          "metadata": {}
        },
        {
          "output_type": "stream",
          "name": "stdout",
          "text": [
            "Connectivity Visualization for ि :\n"
          ]
        },
        {
          "output_type": "display_data",
          "data": {
            "text/plain": [
              "<IPython.core.display.HTML object>"
            ],
            "text/html": [
              "<text style=color:#000;background-color:#85c2e1>s </text><text style=color:#000;background-color:#85c2e1>h </text><text style=color:#000;background-color:#85c2e1>r </text><text style=color:#000;background-color:#85c2e1>i </text><text style=color:#000;background-color:#85c2e1>m </text><text style=color:#000;background-color:#85c2e1>a </text><text style=color:#000;background-color:#85c2e1>t </text><text style=color:#000;background-color:#85c2e1>i </text>"
            ]
          },
          "metadata": {}
        },
        {
          "output_type": "stream",
          "name": "stdout",
          "text": [
            "Connectivity Visualization for म :\n"
          ]
        },
        {
          "output_type": "display_data",
          "data": {
            "text/plain": [
              "<IPython.core.display.HTML object>"
            ],
            "text/html": [
              "<text style=color:#000;background-color:#85c2e1>s </text><text style=color:#000;background-color:#85c2e1>h </text><text style=color:#000;background-color:#85c2e1>r </text><text style=color:#000;background-color:#85c2e1>i </text><text style=color:#000;background-color:#85c2e1>m </text><text style=color:#000;background-color:#85c2e1>a </text><text style=color:#000;background-color:#85c2e1>t </text><text style=color:#000;background-color:#85c2e1>i </text>"
            ]
          },
          "metadata": {}
        },
        {
          "output_type": "stream",
          "name": "stdout",
          "text": [
            "Connectivity Visualization for त :\n"
          ]
        },
        {
          "output_type": "display_data",
          "data": {
            "text/plain": [
              "<IPython.core.display.HTML object>"
            ],
            "text/html": [
              "<text style=color:#000;background-color:#85c2e1>s </text><text style=color:#000;background-color:#85c2e1>h </text><text style=color:#000;background-color:#85c2e1>r </text><text style=color:#000;background-color:#85c2e1>i </text><text style=color:#000;background-color:#85c2e1>m </text><text style=color:#000;background-color:#85c2e1>a </text><text style=color:#000;background-color:#85c2e1>t </text><text style=color:#000;background-color:#85c2e1>i </text>"
            ]
          },
          "metadata": {}
        },
        {
          "output_type": "stream",
          "name": "stdout",
          "text": [
            "Connectivity Visualization for ी :\n"
          ]
        },
        {
          "output_type": "display_data",
          "data": {
            "text/plain": [
              "<IPython.core.display.HTML object>"
            ],
            "text/html": [
              "<text style=color:#000;background-color:#85c2e1>s </text><text style=color:#000;background-color:#85c2e1>h </text><text style=color:#000;background-color:#85c2e1>r </text><text style=color:#000;background-color:#85c2e1>i </text><text style=color:#000;background-color:#85c2e1>m </text><text style=color:#000;background-color:#85c2e1>a </text><text style=color:#000;background-color:#85c2e1>t </text><text style=color:#000;background-color:#85c2e1>i </text>"
            ]
          },
          "metadata": {}
        },
        {
          "output_type": "stream",
          "name": "stdout",
          "text": [
            "Calling LSTM with: <class 'tensorflow.python.framework.ops.EagerTensor'> (1, 22, 256)\n",
            "Hidden is: <class 'list'> [TensorShape([1, 256]), TensorShape([1, 256])]\n",
            "Original Word: avegyanik\n",
            "Transliterated Word: अवेग्यानिक\n",
            "Connectivity Visualization for अ :\n"
          ]
        },
        {
          "output_type": "stream",
          "name": "stderr",
          "text": [
            "<ipython-input-16-a3beb7fceb7f>:27: DeprecationWarning: Conversion of an array with ndim > 0 to a scalar is deprecated, and will error in future. Ensure you extract a single element from your array before performing this operation. (Deprecated NumPy 1.25.)\n",
            "  value = int(value * 19)\n"
          ]
        },
        {
          "output_type": "display_data",
          "data": {
            "text/plain": [
              "<IPython.core.display.HTML object>"
            ],
            "text/html": [
              "<text style=color:#000;background-color:#f42e2e>a </text><text style=color:#000;background-color:#f8a8a8>v </text><text style=color:#000;background-color:#f9d4d4>e </text><text style=color:#000;background-color:#85c2e1>g </text><text style=color:#000;background-color:#95cae5>y </text><text style=color:#000;background-color:#a1d0e8#b2d9ec>a </text><text style=color:#000;background-color:#85c2e1>n </text><text style=color:#000;background-color:#85c2e1>i </text><text style=color:#000;background-color:#99cce6>k </text>"
            ]
          },
          "metadata": {}
        },
        {
          "output_type": "stream",
          "name": "stdout",
          "text": [
            "Connectivity Visualization for व :\n"
          ]
        },
        {
          "output_type": "display_data",
          "data": {
            "text/plain": [
              "<IPython.core.display.HTML object>"
            ],
            "text/html": [
              "<text style=color:#000;background-color:#85c2e1>a </text><text style=color:#000;background-color:#89c4e2>v </text><text style=color:#000;background-color:#f42e2e>e </text><text style=color:#000;background-color:#85c2e1>g </text><text style=color:#000;background-color:#85c2e1>y </text><text style=color:#000;background-color:#85c2e1>a </text><text style=color:#000;background-color:#85c2e1>n </text><text style=color:#000;background-color:#85c2e1>i </text><text style=color:#000;background-color:#85c2e1>k </text>"
            ]
          },
          "metadata": {}
        },
        {
          "output_type": "stream",
          "name": "stdout",
          "text": [
            "Connectivity Visualization for े :\n"
          ]
        },
        {
          "output_type": "display_data",
          "data": {
            "text/plain": [
              "<IPython.core.display.HTML object>"
            ],
            "text/html": [
              "<text style=color:#000;background-color:#85c2e1>a </text><text style=color:#000;background-color:#85c2e1>v </text><text style=color:#000;background-color:#85c2e1>e </text><text style=color:#000;background-color:#85c2e1>g </text><text style=color:#000;background-color:#85c2e1>y </text><text style=color:#000;background-color:#85c2e1>a </text><text style=color:#000;background-color:#85c2e1>n </text><text style=color:#000;background-color:#85c2e1>i </text><text style=color:#000;background-color:#85c2e1>k </text>"
            ]
          },
          "metadata": {}
        },
        {
          "output_type": "stream",
          "name": "stdout",
          "text": [
            "Connectivity Visualization for ग :\n"
          ]
        },
        {
          "output_type": "display_data",
          "data": {
            "text/plain": [
              "<IPython.core.display.HTML object>"
            ],
            "text/html": [
              "<text style=color:#000;background-color:#85c2e1>a </text><text style=color:#000;background-color:#85c2e1>v </text><text style=color:#000;background-color:#85c2e1>e </text><text style=color:#000;background-color:#85c2e1>g </text><text style=color:#000;background-color:#85c2e1>y </text><text style=color:#000;background-color:#85c2e1>a </text><text style=color:#000;background-color:#85c2e1>n </text><text style=color:#000;background-color:#85c2e1>i </text><text style=color:#000;background-color:#85c2e1>k </text>"
            ]
          },
          "metadata": {}
        },
        {
          "output_type": "stream",
          "name": "stdout",
          "text": [
            "Connectivity Visualization for ् :\n"
          ]
        },
        {
          "output_type": "display_data",
          "data": {
            "text/plain": [
              "<IPython.core.display.HTML object>"
            ],
            "text/html": [
              "<text style=color:#000;background-color:#85c2e1>a </text><text style=color:#000;background-color:#85c2e1>v </text><text style=color:#000;background-color:#85c2e1>e </text><text style=color:#000;background-color:#85c2e1>g </text><text style=color:#000;background-color:#85c2e1>y </text><text style=color:#000;background-color:#85c2e1>a </text><text style=color:#000;background-color:#85c2e1>n </text><text style=color:#000;background-color:#85c2e1>i </text><text style=color:#000;background-color:#85c2e1>k </text>"
            ]
          },
          "metadata": {}
        },
        {
          "output_type": "stream",
          "name": "stdout",
          "text": [
            "Connectivity Visualization for य :\n"
          ]
        },
        {
          "output_type": "display_data",
          "data": {
            "text/plain": [
              "<IPython.core.display.HTML object>"
            ],
            "text/html": [
              "<text style=color:#000;background-color:#85c2e1>a </text><text style=color:#000;background-color:#85c2e1>v </text><text style=color:#000;background-color:#85c2e1>e </text><text style=color:#000;background-color:#85c2e1>g </text><text style=color:#000;background-color:#85c2e1>y </text><text style=color:#000;background-color:#85c2e1>a </text><text style=color:#000;background-color:#85c2e1>n </text><text style=color:#000;background-color:#85c2e1>i </text><text style=color:#000;background-color:#85c2e1>k </text>"
            ]
          },
          "metadata": {}
        },
        {
          "output_type": "stream",
          "name": "stdout",
          "text": [
            "Connectivity Visualization for ा :\n"
          ]
        },
        {
          "output_type": "display_data",
          "data": {
            "text/plain": [
              "<IPython.core.display.HTML object>"
            ],
            "text/html": [
              "<text style=color:#000;background-color:#85c2e1>a </text><text style=color:#000;background-color:#85c2e1>v </text><text style=color:#000;background-color:#85c2e1>e </text><text style=color:#000;background-color:#85c2e1>g </text><text style=color:#000;background-color:#85c2e1>y </text><text style=color:#000;background-color:#85c2e1>a </text><text style=color:#000;background-color:#85c2e1>n </text><text style=color:#000;background-color:#85c2e1>i </text><text style=color:#000;background-color:#85c2e1>k </text>"
            ]
          },
          "metadata": {}
        },
        {
          "output_type": "stream",
          "name": "stdout",
          "text": [
            "Connectivity Visualization for न :\n"
          ]
        },
        {
          "output_type": "display_data",
          "data": {
            "text/plain": [
              "<IPython.core.display.HTML object>"
            ],
            "text/html": [
              "<text style=color:#000;background-color:#85c2e1>a </text><text style=color:#000;background-color:#85c2e1>v </text><text style=color:#000;background-color:#85c2e1>e </text><text style=color:#000;background-color:#85c2e1>g </text><text style=color:#000;background-color:#85c2e1>y </text><text style=color:#000;background-color:#85c2e1>a </text><text style=color:#000;background-color:#85c2e1>n </text><text style=color:#000;background-color:#85c2e1>i </text><text style=color:#000;background-color:#85c2e1>k </text>"
            ]
          },
          "metadata": {}
        },
        {
          "output_type": "stream",
          "name": "stdout",
          "text": [
            "Connectivity Visualization for ि :\n"
          ]
        },
        {
          "output_type": "display_data",
          "data": {
            "text/plain": [
              "<IPython.core.display.HTML object>"
            ],
            "text/html": [
              "<text style=color:#000;background-color:#85c2e1>a </text><text style=color:#000;background-color:#85c2e1>v </text><text style=color:#000;background-color:#85c2e1>e </text><text style=color:#000;background-color:#85c2e1>g </text><text style=color:#000;background-color:#85c2e1>y </text><text style=color:#000;background-color:#85c2e1>a </text><text style=color:#000;background-color:#85c2e1>n </text><text style=color:#000;background-color:#85c2e1>i </text><text style=color:#000;background-color:#85c2e1>k </text>"
            ]
          },
          "metadata": {}
        },
        {
          "output_type": "stream",
          "name": "stdout",
          "text": [
            "Connectivity Visualization for क :\n"
          ]
        },
        {
          "output_type": "display_data",
          "data": {
            "text/plain": [
              "<IPython.core.display.HTML object>"
            ],
            "text/html": [
              "<text style=color:#000;background-color:#85c2e1>a </text><text style=color:#000;background-color:#85c2e1>v </text><text style=color:#000;background-color:#85c2e1>e </text><text style=color:#000;background-color:#85c2e1>g </text><text style=color:#000;background-color:#85c2e1>y </text><text style=color:#000;background-color:#85c2e1>a </text><text style=color:#000;background-color:#85c2e1>n </text><text style=color:#000;background-color:#85c2e1>i </text><text style=color:#000;background-color:#85c2e1>k </text>"
            ]
          },
          "metadata": {}
        },
        {
          "output_type": "stream",
          "name": "stdout",
          "text": [
            "Calling LSTM with: <class 'tensorflow.python.framework.ops.EagerTensor'> (1, 22, 256)\n",
            "Hidden is: <class 'list'> [TensorShape([1, 256]), TensorShape([1, 256])]\n",
            "Original Word: praudh\n",
            "Transliterated Word: प्रौध\n",
            "Connectivity Visualization for प :\n"
          ]
        },
        {
          "output_type": "stream",
          "name": "stderr",
          "text": [
            "<ipython-input-16-a3beb7fceb7f>:27: DeprecationWarning: Conversion of an array with ndim > 0 to a scalar is deprecated, and will error in future. Ensure you extract a single element from your array before performing this operation. (Deprecated NumPy 1.25.)\n",
            "  value = int(value * 19)\n"
          ]
        },
        {
          "output_type": "display_data",
          "data": {
            "text/plain": [
              "<IPython.core.display.HTML object>"
            ],
            "text/html": [
              "<text style=color:#000;background-color:#89c4e2>p </text><text style=color:#000;background-color:#f9e8e8>r </text><text style=color:#000;background-color:#99cce6>a </text><text style=color:#000;background-color:#85c2e1>u </text><text style=color:#000;background-color:#85c2e1>d </text><text style=color:#000;background-color:#f42e2e>h </text>"
            ]
          },
          "metadata": {}
        },
        {
          "output_type": "stream",
          "name": "stdout",
          "text": [
            "Connectivity Visualization for ् :\n"
          ]
        },
        {
          "output_type": "display_data",
          "data": {
            "text/plain": [
              "<IPython.core.display.HTML object>"
            ],
            "text/html": [
              "<text style=color:#000;background-color:#85c2e1>p </text><text style=color:#000;background-color:#85c2e1>r </text><text style=color:#000;background-color:#f9bdbd>a </text><text style=color:#000;background-color:#f42e2e>u </text><text style=color:#000;background-color:#a1d0e8#b2d9ec>d </text><text style=color:#000;background-color:#89c4e2>h </text>"
            ]
          },
          "metadata": {}
        },
        {
          "output_type": "stream",
          "name": "stdout",
          "text": [
            "Connectivity Visualization for र :\n"
          ]
        },
        {
          "output_type": "display_data",
          "data": {
            "text/plain": [
              "<IPython.core.display.HTML object>"
            ],
            "text/html": [
              "<text style=color:#000;background-color:#85c2e1>p </text><text style=color:#000;background-color:#85c2e1>r </text><text style=color:#000;background-color:#85c2e1>a </text><text style=color:#000;background-color:#85c2e1>u </text><text style=color:#000;background-color:#85c2e1>d </text><text style=color:#000;background-color:#85c2e1>h </text>"
            ]
          },
          "metadata": {}
        },
        {
          "output_type": "stream",
          "name": "stdout",
          "text": [
            "Connectivity Visualization for ौ :\n"
          ]
        },
        {
          "output_type": "display_data",
          "data": {
            "text/plain": [
              "<IPython.core.display.HTML object>"
            ],
            "text/html": [
              "<text style=color:#000;background-color:#85c2e1>p </text><text style=color:#000;background-color:#85c2e1>r </text><text style=color:#000;background-color:#85c2e1>a </text><text style=color:#000;background-color:#85c2e1>u </text><text style=color:#000;background-color:#85c2e1>d </text><text style=color:#000;background-color:#85c2e1>h </text>"
            ]
          },
          "metadata": {}
        },
        {
          "output_type": "stream",
          "name": "stdout",
          "text": [
            "Connectivity Visualization for ध :\n"
          ]
        },
        {
          "output_type": "display_data",
          "data": {
            "text/plain": [
              "<IPython.core.display.HTML object>"
            ],
            "text/html": [
              "<text style=color:#000;background-color:#85c2e1>p </text><text style=color:#000;background-color:#85c2e1>r </text><text style=color:#000;background-color:#85c2e1>a </text><text style=color:#000;background-color:#85c2e1>u </text><text style=color:#000;background-color:#85c2e1>d </text><text style=color:#000;background-color:#85c2e1>h </text>"
            ]
          },
          "metadata": {}
        }
      ]
    },
    {
      "cell_type": "code",
      "metadata": {
        "id": "_E9pUPNGndTS",
        "colab": {
          "base_uri": "https://localhost:8080/"
        },
        "outputId": "5821eabc-15ed-4529-aeab-f5d4e2ed2344"
      },
      "source": [
        "randomly_evaluate(model, n=20)"
      ],
      "execution_count": 21,
      "outputs": [
        {
          "output_type": "stream",
          "name": "stdout",
          "text": [
            "Randomly evaluating the model on 20 words\n",
            "\n",
            "Input word: lahraee\n",
            "Actual translation: लहराई\n",
            "Model translation: लहराई\n",
            "\n",
            "Input word: panpana\n",
            "Actual translation: पनपना\n",
            "Model translation: पंपना\n",
            "\n",
            "Input word: yarooshaleim\n",
            "Actual translation: यरूशलेम\n",
            "Model translation: यरुषालेव\n",
            "\n",
            "Input word: chalit\n",
            "Actual translation: चालित\n",
            "Model translation: चलित\n",
            "\n",
            "Input word: uski\n",
            "Actual translation: उसकी\n",
            "Model translation: उस्की\n",
            "\n",
            "Input word: transistor\n",
            "Actual translation: ट्रांजिस्टर\n",
            "Model translation: ट्रांसिस्तर\n",
            "\n",
            "Input word: dilaye\n",
            "Actual translation: दिलाये\n",
            "Model translation: दिलाए\n",
            "\n",
            "Input word: chhetthri\n",
            "Actual translation: छेत्री\n",
            "Model translation: छेत्थरी\n",
            "\n",
            "Input word: benvar\n",
            "Actual translation: बेंवर\n",
            "Model translation: बेनवर\n",
            "\n",
            "Input word: gtod\n",
            "Actual translation: जीतोड़\n",
            "Model translation: ग्टोड\n",
            "\n",
            "Input word: theatron\n",
            "Actual translation: थियेटरों\n",
            "Model translation: थीत्रों\n",
            "\n",
            "Input word: uplabdhi\n",
            "Actual translation: उपलब्धी\n",
            "Model translation: उपलाभ्धी\n",
            "\n",
            "Input word: sulkhan\n",
            "Actual translation: सुलखान\n",
            "Model translation: सुलखान\n",
            "\n",
            "Input word: welding\n",
            "Actual translation: वेल्डिंग\n",
            "Model translation: वेल्किंग\n",
            "\n",
            "Input word: padhaataa\n",
            "Actual translation: पढ़ाता\n",
            "Model translation: पढ़ाता\n",
            "\n",
            "Input word: karanj\n",
            "Actual translation: करंज\n",
            "Model translation: करंज\n",
            "\n",
            "Input word: dabhra\n",
            "Actual translation: डभरा\n",
            "Model translation: दभरा\n",
            "\n",
            "Input word: vibhajak\n",
            "Actual translation: विभाजक\n",
            "Model translation: विभाजक\n",
            "\n",
            "Input word: jivaniyan\n",
            "Actual translation: जीवनियां\n",
            "Model translation: जिवानियां\n",
            "\n",
            "Input word: nabj\n",
            "Actual translation: नब्ज़\n",
            "Model translation: नब्ज\n",
            "\n"
          ]
        }
      ]
    },
    {
      "cell_type": "markdown",
      "metadata": {
        "id": "EVjQ4r9f1Xoz"
      },
      "source": [
        "# WandB Function"
      ]
    },
    {
      "cell_type": "code",
      "metadata": {
        "id": "rYADdILDERar",
        "colab": {
          "base_uri": "https://localhost:8080/",
          "height": 211
        },
        "outputId": "b6a5e489-29ee-45c2-df2a-dc97b1390b61"
      },
      "source": [
        "wandb.login()"
      ],
      "execution_count": 22,
      "outputs": [
        {
          "output_type": "display_data",
          "data": {
            "text/plain": [
              "<IPython.core.display.Javascript object>"
            ],
            "application/javascript": [
              "\n",
              "        window._wandbApiKey = new Promise((resolve, reject) => {\n",
              "            function loadScript(url) {\n",
              "            return new Promise(function(resolve, reject) {\n",
              "                let newScript = document.createElement(\"script\");\n",
              "                newScript.onerror = reject;\n",
              "                newScript.onload = resolve;\n",
              "                document.body.appendChild(newScript);\n",
              "                newScript.src = url;\n",
              "            });\n",
              "            }\n",
              "            loadScript(\"https://cdn.jsdelivr.net/npm/postmate/build/postmate.min.js\").then(() => {\n",
              "            const iframe = document.createElement('iframe')\n",
              "            iframe.style.cssText = \"width:0;height:0;border:none\"\n",
              "            document.body.appendChild(iframe)\n",
              "            const handshake = new Postmate({\n",
              "                container: iframe,\n",
              "                url: 'https://wandb.ai/authorize'\n",
              "            });\n",
              "            const timeout = setTimeout(() => reject(\"Couldn't auto authenticate\"), 5000)\n",
              "            handshake.then(function(child) {\n",
              "                child.on('authorize', data => {\n",
              "                    clearTimeout(timeout)\n",
              "                    resolve(data)\n",
              "                });\n",
              "            });\n",
              "            })\n",
              "        });\n",
              "    "
            ]
          },
          "metadata": {}
        },
        {
          "output_type": "stream",
          "name": "stderr",
          "text": [
            "\u001b[34m\u001b[1mwandb\u001b[0m: Logging into wandb.ai. (Learn how to deploy a W&B server locally: https://wandb.me/wandb-server)\n",
            "\u001b[34m\u001b[1mwandb\u001b[0m: You can find your API key in your browser here: https://wandb.ai/authorize\n",
            "wandb: Paste an API key from your profile and hit enter:"
          ]
        },
        {
          "name": "stdout",
          "output_type": "stream",
          "text": [
            " ··········\n"
          ]
        },
        {
          "output_type": "stream",
          "name": "stderr",
          "text": [
            "\u001b[34m\u001b[1mwandb\u001b[0m: \u001b[33mWARNING\u001b[0m If you're specifying your api key in code, ensure this code is not shared publicly.\n",
            "\u001b[34m\u001b[1mwandb\u001b[0m: \u001b[33mWARNING\u001b[0m Consider setting the WANDB_API_KEY environment variable, or running `wandb login` from the command line.\n",
            "\u001b[34m\u001b[1mwandb\u001b[0m: No netrc file found, creating one.\n",
            "\u001b[34m\u001b[1mwandb\u001b[0m: Appending key for api.wandb.ai to your netrc file: /root/.netrc\n",
            "\u001b[34m\u001b[1mwandb\u001b[0m: Currently logged in as: \u001b[33mns24z347\u001b[0m (\u001b[33mns24z347-indian-institute-of-technology-madras\u001b[0m) to \u001b[32mhttps://api.wandb.ai\u001b[0m. Use \u001b[1m`wandb login --relogin`\u001b[0m to force relogin\n"
          ]
        },
        {
          "output_type": "execute_result",
          "data": {
            "text/plain": [
              "True"
            ]
          },
          "metadata": {},
          "execution_count": 22
        }
      ]
    },
    {
      "cell_type": "code",
      "metadata": {
        "id": "y_FiH40wgm0i"
      },
      "source": [
        "def train_with_wandb(language, test_beam_search=False):\n",
        "\n",
        "    config_defaults = {\"embedding_dim\": 64,\n",
        "                       \"enc_dec_layers\": 1,\n",
        "                       \"layer_type\": \"lstm\",\n",
        "                       \"units\": 128,\n",
        "                       \"dropout\": 0,\n",
        "                       \"attention\": False,\n",
        "                       \"beam_width\": 3,\n",
        "                       \"teacher_forcing_ratio\": 1.0\n",
        "                       }\n",
        "\n",
        "    wandb.init(config=config_defaults, project=\"DA6401_Assignment3\", resume=True)\n",
        "    # Below is an example of a custom run name for sweep 4\n",
        "    # This line was different for all sweeps\n",
        "    #wandb.run.name = f\"beam_width_{wandb.config.beam_width}\"\n",
        "\n",
        "    ## 1. SELECT LANGUAGE ##\n",
        "    TRAIN_TSV, VAL_TSV, TEST_TSV = get_data_files(language)\n",
        "\n",
        "    ## 2. DATA PREPROCESSING ##\n",
        "    dataset, input_tokenizer, targ_tokenizer = preprocess_data(TRAIN_TSV)\n",
        "    val_dataset, _, _ = preprocess_data(VAL_TSV, input_tokenizer, targ_tokenizer)\n",
        "\n",
        "    ## 3. CREATING THE MODEL ##\n",
        "    model = Seq2SeqModel(embedding_dim=wandb.config.embedding_dim,\n",
        "                         encoder_layers=wandb.config.enc_dec_layers,\n",
        "                         decoder_layers=wandb.config.enc_dec_layers,\n",
        "                         layer_type=wandb.config.layer_type,\n",
        "                         units=wandb.config.units,\n",
        "                         dropout=wandb.config.dropout,\n",
        "                         attention=wandb.config.attention)\n",
        "\n",
        "    ## 4. COMPILING THE MODEL\n",
        "    model.set_vocabulary(input_tokenizer, targ_tokenizer)\n",
        "    model.build(loss=tf.keras.losses.SparseCategoricalCrossentropy(),\n",
        "                optimizer = tf.keras.optimizers.Adam(),\n",
        "                metric = tf.keras.metrics.SparseCategoricalAccuracy())\n",
        "\n",
        "    ## 5. FITTING AND VALIDATING THE MODEL\n",
        "    model.fit(dataset, val_dataset, epochs=30, use_wandb=True, teacher_forcing_ratio=wandb.config.teacher_forcing_ratio)\n",
        "\n",
        "    if test_beam_search:\n",
        "        ## OPTIONAL :- Evaluate the dataset using beam search and without beam search\n",
        "        val_dataset, _, _ = preprocess_data(VAL_TSV, model.input_tokenizer, model.targ_tokenizer)\n",
        "        subset = val_dataset.take(500)\n",
        "\n",
        "        # a) Without beam search\n",
        "        _, test_acc_without = model.evaluate(subset, batch_size=100)\n",
        "        wandb.log({\"test acc\": test_acc_without})\n",
        "\n",
        "        # b) With beam search\n",
        "        beam_search = BeamSearch(model=model, k=wandb.config.beam_width)\n",
        "        beam_search.evaluate(subset, batch_size=100, use_wandb=True)"
      ],
      "execution_count": 23,
      "outputs": []
    },
    {
      "cell_type": "markdown",
      "metadata": {
        "id": "3TIsyV5QF0M7"
      },
      "source": [
        "# Sweeps without Attention"
      ]
    },
    {
      "cell_type": "code",
      "metadata": {
        "id": "byYn_WLZMQ5i"
      },
      "source": [
        "sweep_config = {\n",
        "  \"name\": \"Sweep 1- Ast3\",\n",
        "  \"method\": \"grid\",\n",
        "  \"parameters\": {\n",
        "        \"enc_dec_layers\": {\n",
        "           \"values\": [1, 2, 3]\n",
        "        },\n",
        "        \"units\": {\n",
        "            \"values\": [64, 128, 256]\n",
        "        },\n",
        "        \"layer_type\": {\n",
        "            \"values\": [\"rnn\", \"gru\", \"lstm\"]\n",
        "        }\n",
        "    }\n",
        "}"
      ],
      "execution_count": 24,
      "outputs": []
    },
    {
      "cell_type": "code",
      "metadata": {
        "colab": {
          "base_uri": "https://localhost:8080/"
        },
        "id": "h25tYWs4T3wV",
        "outputId": "ef5fda1b-0a79-42ac-fbcd-12de14ec6048"
      },
      "source": [
        "sweep_id = wandb.sweep(sweep_config, project=\"DA6401_Assignment_3\")"
      ],
      "execution_count": 25,
      "outputs": [
        {
          "output_type": "stream",
          "name": "stdout",
          "text": [
            "Create sweep with ID: x7er8mr2\n",
            "Sweep URL: https://wandb.ai/ns24z347-indian-institute-of-technology-madras/DA6401_Assignment_3/sweeps/x7er8mr2\n"
          ]
        }
      ]
    },
    {
      "cell_type": "code",
      "metadata": {
        "colab": {
          "base_uri": "https://localhost:8080/",
          "height": 1000
        },
        "id": "-70hy-l9UAa9",
        "outputId": "e01e6064-3a7d-472b-e282-3a24fcdc0cf6"
      },
      "source": [
        "wandb.agent(sweep_id, function=lambda: train_with_wandb(\"hi\"))"
      ],
      "execution_count": 26,
      "outputs": [
        {
          "output_type": "stream",
          "name": "stderr",
          "text": [
            "\u001b[34m\u001b[1mwandb\u001b[0m: Agent Starting Run: rviifxcd with config:\n",
            "\u001b[34m\u001b[1mwandb\u001b[0m: \tenc_dec_layers: 1\n",
            "\u001b[34m\u001b[1mwandb\u001b[0m: \tlayer_type: rnn\n",
            "\u001b[34m\u001b[1mwandb\u001b[0m: \tunits: 64\n"
          ]
        },
        {
          "output_type": "display_data",
          "data": {
            "text/plain": [
              "<IPython.core.display.HTML object>"
            ],
            "text/html": [
              "Ignoring project 'DA6401_Assignment3' when running a sweep."
            ]
          },
          "metadata": {}
        },
        {
          "output_type": "display_data",
          "data": {
            "text/plain": [
              "<IPython.core.display.HTML object>"
            ],
            "text/html": [
              "Tracking run with wandb version 0.19.11"
            ]
          },
          "metadata": {}
        },
        {
          "output_type": "display_data",
          "data": {
            "text/plain": [
              "<IPython.core.display.HTML object>"
            ],
            "text/html": [
              "Run data is saved locally in <code>/content/wandb/run-20250520_171257-rviifxcd</code>"
            ]
          },
          "metadata": {}
        },
        {
          "output_type": "display_data",
          "data": {
            "text/plain": [
              "<IPython.core.display.HTML object>"
            ],
            "text/html": [
              "Syncing run <strong><a href='https://wandb.ai/ns24z347-indian-institute-of-technology-madras/DA6401_Assignment_3/runs/rviifxcd' target=\"_blank\">summer-sweep-1</a></strong> to <a href='https://wandb.ai/ns24z347-indian-institute-of-technology-madras/DA6401_Assignment_3' target=\"_blank\">Weights & Biases</a> (<a href='https://wandb.me/developer-guide' target=\"_blank\">docs</a>)<br>Sweep page: <a href='https://wandb.ai/ns24z347-indian-institute-of-technology-madras/DA6401_Assignment_3/sweeps/x7er8mr2' target=\"_blank\">https://wandb.ai/ns24z347-indian-institute-of-technology-madras/DA6401_Assignment_3/sweeps/x7er8mr2</a>"
            ]
          },
          "metadata": {}
        },
        {
          "output_type": "display_data",
          "data": {
            "text/plain": [
              "<IPython.core.display.HTML object>"
            ],
            "text/html": [
              " View project at <a href='https://wandb.ai/ns24z347-indian-institute-of-technology-madras/DA6401_Assignment_3' target=\"_blank\">https://wandb.ai/ns24z347-indian-institute-of-technology-madras/DA6401_Assignment_3</a>"
            ]
          },
          "metadata": {}
        },
        {
          "output_type": "display_data",
          "data": {
            "text/plain": [
              "<IPython.core.display.HTML object>"
            ],
            "text/html": [
              " View sweep at <a href='https://wandb.ai/ns24z347-indian-institute-of-technology-madras/DA6401_Assignment_3/sweeps/x7er8mr2' target=\"_blank\">https://wandb.ai/ns24z347-indian-institute-of-technology-madras/DA6401_Assignment_3/sweeps/x7er8mr2</a>"
            ]
          },
          "metadata": {}
        },
        {
          "output_type": "display_data",
          "data": {
            "text/plain": [
              "<IPython.core.display.HTML object>"
            ],
            "text/html": [
              " View run at <a href='https://wandb.ai/ns24z347-indian-institute-of-technology-madras/DA6401_Assignment_3/runs/rviifxcd' target=\"_blank\">https://wandb.ai/ns24z347-indian-institute-of-technology-madras/DA6401_Assignment_3/runs/rviifxcd</a>"
            ]
          },
          "metadata": {}
        },
        {
          "output_type": "stream",
          "name": "stdout",
          "text": [
            "----------------------------------------------------------------------------------------------------\n",
            "EPOCH 1\n",
            "\n",
            "Training ...\n",
            "\n"
          ]
        },
        {
          "output_type": "stream",
          "name": "stderr",
          "text": [
            "/usr/local/lib/python3.11/dist-packages/keras/src/optimizers/base_optimizer.py:774: UserWarning: Gradients do not exist for variables ['seed_generator/seed_generator_state', 'seed_generator_1/seed_generator_state'] when minimizing the loss. If using `model.compile()`, did you forget to provide a `loss` argument?\n",
            "  warnings.warn(\n"
          ]
        },
        {
          "output_type": "stream",
          "name": "stdout",
          "text": [
            "Batch 1 Loss 3.9843\n",
            "Batch 100 Loss 1.0266\n",
            "Batch 200 Loss 0.9738\n",
            "Batch 300 Loss 0.8494\n",
            "\n",
            "Validating ...\n",
            "\n",
            "Train Loss: 1.0752 Train Accuracy: 68.3444 Validation Loss: 2.3963 Validation Accuracy: 52.1122\n",
            "\n",
            "Time taken for the epoch 34.2645\n",
            "----------------------------------------------------------------------------------------------------\n",
            "EPOCH 2\n",
            "\n",
            "Training ...\n",
            "\n",
            "Batch 1 Loss 0.8179\n",
            "Batch 100 Loss 0.8172\n",
            "Batch 200 Loss 0.7276\n",
            "Batch 300 Loss 0.7324\n",
            "\n",
            "Validating ...\n",
            "\n",
            "Train Loss: 0.7900 Train Accuracy: 77.6239 Validation Loss: 2.6039 Validation Accuracy: 51.1191\n",
            "\n",
            "Time taken for the epoch 23.5586\n",
            "----------------------------------------------------------------------------------------------------\n",
            "EPOCH 3\n",
            "\n",
            "Training ...\n",
            "\n",
            "Batch 1 Loss 0.7749\n",
            "Batch 100 Loss 0.7241\n",
            "Batch 200 Loss 0.7478\n",
            "Batch 300 Loss 0.7017\n",
            "\n",
            "Validating ...\n",
            "\n",
            "Train Loss: 0.7267 Train Accuracy: 79.2312 Validation Loss: 2.9659 Validation Accuracy: 47.2084\n",
            "\n",
            "Time taken for the epoch 18.3755\n",
            "----------------------------------------------------------------------------------------------------\n",
            "EPOCH 4\n",
            "\n",
            "Training ...\n",
            "\n",
            "Batch 1 Loss 0.7103\n",
            "Batch 100 Loss 0.7159\n",
            "Batch 200 Loss 0.6689\n",
            "Batch 300 Loss 0.6750\n",
            "\n",
            "Validating ...\n",
            "\n",
            "Train Loss: 0.6870 Train Accuracy: 80.2211 Validation Loss: 3.1136 Validation Accuracy: 46.9491\n",
            "\n",
            "Time taken for the epoch 20.0389\n",
            "----------------------------------------------------------------------------------------------------\n",
            "EPOCH 5\n",
            "\n",
            "Training ...\n",
            "\n",
            "Batch 1 Loss 0.6441\n",
            "Batch 100 Loss 0.6824\n",
            "Batch 200 Loss 0.5918\n",
            "Batch 300 Loss 0.6152\n",
            "\n",
            "Validating ...\n",
            "\n",
            "Train Loss: 0.6560 Train Accuracy: 80.8463 Validation Loss: 3.2421 Validation Accuracy: 47.0092\n",
            "\n",
            "Time taken for the epoch 18.6067\n",
            "----------------------------------------------------------------------------------------------------\n",
            "EPOCH 6\n",
            "\n",
            "Training ...\n",
            "\n",
            "Batch 1 Loss 0.6094\n",
            "Batch 100 Loss 0.6281\n",
            "Batch 200 Loss 0.6391\n",
            "Batch 300 Loss 0.6400\n",
            "\n",
            "Validating ...\n",
            "\n",
            "Train Loss: 0.6283 Train Accuracy: 81.4752 Validation Loss: 3.4642 Validation Accuracy: 45.6935\n",
            "\n",
            "Time taken for the epoch 18.1921\n",
            "----------------------------------------------------------------------------------------------------\n",
            "EPOCH 7\n",
            "\n",
            "Training ...\n",
            "\n",
            "Batch 1 Loss 0.6038\n",
            "Batch 100 Loss 0.5688\n",
            "Batch 200 Loss 0.6310\n",
            "Batch 300 Loss 0.5608\n",
            "\n",
            "Validating ...\n",
            "\n",
            "Train Loss: 0.6025 Train Accuracy: 82.0598 Validation Loss: 3.3855 Validation Accuracy: 49.4447\n",
            "\n",
            "Time taken for the epoch 19.9573\n",
            "----------------------------------------------------------------------------------------------------\n",
            "EPOCH 8\n",
            "\n",
            "Training ...\n",
            "\n",
            "Batch 1 Loss 0.5913\n",
            "Batch 100 Loss 0.6083\n",
            "Batch 200 Loss 0.5652\n",
            "Batch 300 Loss 0.5745\n",
            "\n",
            "Validating ...\n",
            "\n",
            "Train Loss: 0.5819 Train Accuracy: 82.4009 Validation Loss: 3.3635 Validation Accuracy: 49.1407\n",
            "\n",
            "Time taken for the epoch 18.1367\n",
            "----------------------------------------------------------------------------------------------------\n",
            "EPOCH 9\n",
            "\n",
            "Training ...\n",
            "\n",
            "Batch 1 Loss 0.5473\n",
            "Batch 100 Loss 0.5396\n",
            "Batch 200 Loss 0.5602\n",
            "Batch 300 Loss 0.5587\n",
            "\n",
            "Validating ...\n",
            "\n",
            "Train Loss: 0.5595 Train Accuracy: 82.8292 Validation Loss: 3.4621 Validation Accuracy: 48.7693\n",
            "\n",
            "Time taken for the epoch 18.8034\n",
            "----------------------------------------------------------------------------------------------------\n",
            "EPOCH 10\n",
            "\n",
            "Training ...\n",
            "\n",
            "Batch 1 Loss 0.5569\n",
            "Batch 100 Loss 0.5494\n",
            "Batch 200 Loss 0.5893\n",
            "Batch 300 Loss 0.5020\n",
            "\n",
            "Validating ...\n",
            "\n",
            "Train Loss: 0.5407 Train Accuracy: 83.2775 Validation Loss: 3.5972 Validation Accuracy: 48.1449\n",
            "\n",
            "Time taken for the epoch 19.9463\n",
            "----------------------------------------------------------------------------------------------------\n",
            "EPOCH 11\n",
            "\n",
            "Training ...\n",
            "\n",
            "Batch 1 Loss 0.5464\n",
            "Batch 100 Loss 0.4875\n",
            "Batch 200 Loss 0.4981\n",
            "Batch 300 Loss 0.5330\n",
            "\n",
            "Validating ...\n",
            "\n",
            "Train Loss: 0.5241 Train Accuracy: 83.7190 Validation Loss: 3.4902 Validation Accuracy: 50.3858\n",
            "\n",
            "Time taken for the epoch 18.2648\n",
            "----------------------------------------------------------------------------------------------------\n",
            "EPOCH 12\n",
            "\n",
            "Training ...\n",
            "\n",
            "Batch 1 Loss 0.5075\n",
            "Batch 100 Loss 0.5276\n",
            "Batch 200 Loss 0.5104\n",
            "Batch 300 Loss 0.5107\n",
            "\n",
            "Validating ...\n",
            "\n",
            "Train Loss: 0.5096 Train Accuracy: 84.0850 Validation Loss: 3.6179 Validation Accuracy: 49.7511\n",
            "\n",
            "Time taken for the epoch 19.6636\n",
            "----------------------------------------------------------------------------------------------------\n",
            "EPOCH 13\n",
            "\n",
            "Training ...\n",
            "\n",
            "Batch 1 Loss 0.4658\n",
            "Batch 100 Loss 0.5019\n",
            "Batch 200 Loss 0.5176\n",
            "Batch 300 Loss 0.5185\n",
            "\n",
            "Validating ...\n",
            "\n",
            "Train Loss: 0.4971 Train Accuracy: 84.4173 Validation Loss: 3.6997 Validation Accuracy: 48.6141\n",
            "\n",
            "Time taken for the epoch 18.4144\n",
            "----------------------------------------------------------------------------------------------------\n",
            "EPOCH 14\n",
            "\n",
            "Training ...\n",
            "\n",
            "Batch 1 Loss 0.4829\n",
            "Batch 100 Loss 0.4476\n",
            "Batch 200 Loss 0.4591\n",
            "Batch 300 Loss 0.4715\n",
            "\n",
            "Validating ...\n",
            "\n",
            "Train Loss: 0.4861 Train Accuracy: 84.6859 Validation Loss: 3.6774 Validation Accuracy: 50.1521\n",
            "\n",
            "Time taken for the epoch 18.5957\n",
            "----------------------------------------------------------------------------------------------------\n",
            "EPOCH 15\n",
            "\n",
            "Training ...\n",
            "\n",
            "Batch 1 Loss 0.5011\n",
            "Batch 100 Loss 0.4826\n",
            "Batch 200 Loss 0.4703\n",
            "Batch 300 Loss 0.4535\n",
            "\n",
            "Validating ...\n",
            "\n",
            "Train Loss: 0.4752 Train Accuracy: 84.9603 Validation Loss: 3.6132 Validation Accuracy: 50.7415\n",
            "\n",
            "Time taken for the epoch 20.6896\n",
            "----------------------------------------------------------------------------------------------------\n",
            "EPOCH 16\n",
            "\n",
            "Training ...\n",
            "\n",
            "Batch 1 Loss 0.4244\n",
            "Batch 100 Loss 0.4696\n",
            "Batch 200 Loss 0.4531\n",
            "Batch 300 Loss 0.4941\n",
            "\n",
            "Validating ...\n",
            "\n",
            "Train Loss: 0.4680 Train Accuracy: 85.1923 Validation Loss: 3.6742 Validation Accuracy: 51.0648\n",
            "\n",
            "Time taken for the epoch 19.0631\n",
            "----------------------------------------------------------------------------------------------------\n",
            "EPOCH 17\n",
            "\n",
            "Training ...\n",
            "\n",
            "Batch 1 Loss 0.4681\n",
            "Batch 100 Loss 0.4302\n",
            "Batch 200 Loss 0.4946\n",
            "Batch 300 Loss 0.4844\n",
            "\n",
            "Validating ...\n",
            "\n",
            "Train Loss: 0.4597 Train Accuracy: 85.3351 Validation Loss: 3.7625 Validation Accuracy: 50.5074\n",
            "\n",
            "Time taken for the epoch 20.2478\n",
            "----------------------------------------------------------------------------------------------------\n",
            "EPOCH 18\n",
            "\n",
            "Training ...\n",
            "\n",
            "Batch 1 Loss 0.4183\n",
            "Batch 100 Loss 0.5007\n",
            "Batch 200 Loss 0.4416\n",
            "Batch 300 Loss 0.4229\n",
            "\n",
            "Validating ...\n",
            "\n",
            "Train Loss: 0.4529 Train Accuracy: 85.6764 Validation Loss: 3.7563 Validation Accuracy: 50.0111\n",
            "\n",
            "Time taken for the epoch 19.0575\n",
            "----------------------------------------------------------------------------------------------------\n",
            "EPOCH 19\n",
            "\n",
            "Training ...\n",
            "\n",
            "Batch 1 Loss 0.4376\n",
            "Batch 100 Loss 0.4284\n",
            "Batch 200 Loss 0.4703\n",
            "Batch 300 Loss 0.4296\n",
            "\n",
            "Validating ...\n",
            "\n",
            "Train Loss: 0.4459 Train Accuracy: 85.8542 Validation Loss: 3.8841 Validation Accuracy: 48.7145\n",
            "\n",
            "Time taken for the epoch 18.5204\n",
            "----------------------------------------------------------------------------------------------------\n",
            "EPOCH 20\n",
            "\n",
            "Training ...\n",
            "\n",
            "Batch 1 Loss 0.4547\n",
            "Batch 100 Loss 0.4368\n",
            "Batch 200 Loss 0.4333\n",
            "Batch 300 Loss 0.4022\n",
            "\n",
            "Validating ...\n",
            "\n",
            "Train Loss: 0.4402 Train Accuracy: 85.9789 Validation Loss: 3.9129 Validation Accuracy: 48.5695\n",
            "\n",
            "Time taken for the epoch 20.3393\n",
            "----------------------------------------------------------------------------------------------------\n",
            "EPOCH 21\n",
            "\n",
            "Training ...\n",
            "\n",
            "Batch 1 Loss 0.5025\n",
            "Batch 100 Loss 0.4311\n",
            "Batch 200 Loss 0.4436\n",
            "Batch 300 Loss 0.4225\n",
            "\n",
            "Validating ...\n",
            "\n",
            "Train Loss: 0.4355 Train Accuracy: 86.1059 Validation Loss: 3.9114 Validation Accuracy: 50.2488\n",
            "\n",
            "Time taken for the epoch 18.4336\n",
            "----------------------------------------------------------------------------------------------------\n",
            "EPOCH 22\n",
            "\n",
            "Training ...\n",
            "\n",
            "Batch 1 Loss 0.4517\n",
            "Batch 100 Loss 0.4459\n",
            "Batch 200 Loss 0.4669\n",
            "Batch 300 Loss 0.4407\n",
            "\n",
            "Validating ...\n",
            "\n",
            "Train Loss: 0.4307 Train Accuracy: 86.2020 Validation Loss: 4.0679 Validation Accuracy: 48.0620\n",
            "\n",
            "Time taken for the epoch 19.5062\n",
            "----------------------------------------------------------------------------------------------------\n",
            "EPOCH 23\n",
            "\n",
            "Training ...\n",
            "\n",
            "Batch 1 Loss 0.4315\n",
            "Batch 100 Loss 0.4333\n",
            "Batch 200 Loss 0.4362\n",
            "Batch 300 Loss 0.4211\n",
            "\n",
            "Validating ...\n",
            "\n",
            "Train Loss: 0.4259 Train Accuracy: 86.3671 Validation Loss: 4.1130 Validation Accuracy: 48.0277\n",
            "\n",
            "Time taken for the epoch 19.7696\n",
            "----------------------------------------------------------------------------------------------------\n",
            "EPOCH 24\n",
            "\n",
            "Training ...\n",
            "\n",
            "Batch 1 Loss 0.4348\n",
            "Batch 100 Loss 0.4037\n",
            "Batch 200 Loss 0.4153\n",
            "Batch 300 Loss 0.4089\n",
            "\n",
            "Validating ...\n",
            "\n",
            "Train Loss: 0.4218 Train Accuracy: 86.5390 Validation Loss: 4.0937 Validation Accuracy: 49.0704\n",
            "\n",
            "Time taken for the epoch 18.0431\n",
            "----------------------------------------------------------------------------------------------------\n",
            "EPOCH 25\n",
            "\n",
            "Training ...\n",
            "\n",
            "Batch 1 Loss 0.3796\n",
            "Batch 100 Loss 0.3806\n",
            "Batch 200 Loss 0.4355\n",
            "Batch 300 Loss 0.4515\n",
            "\n",
            "Validating ...\n",
            "\n",
            "Train Loss: 0.4192 Train Accuracy: 86.5994 Validation Loss: 4.2278 Validation Accuracy: 47.4730\n",
            "\n",
            "Time taken for the epoch 20.0993\n",
            "----------------------------------------------------------------------------------------------------\n",
            "EPOCH 26\n",
            "\n",
            "Training ...\n",
            "\n",
            "Batch 1 Loss 0.4276\n",
            "Batch 100 Loss 0.4257\n",
            "Batch 200 Loss 0.4112\n",
            "Batch 300 Loss 0.4212\n",
            "\n",
            "Validating ...\n",
            "\n",
            "Train Loss: 0.4153 Train Accuracy: 86.6489 Validation Loss: 4.2211 Validation Accuracy: 47.7549\n",
            "\n",
            "Time taken for the epoch 17.9392\n",
            "----------------------------------------------------------------------------------------------------\n",
            "EPOCH 27\n",
            "\n",
            "Training ...\n",
            "\n",
            "Batch 1 Loss 0.3969\n",
            "Batch 100 Loss 0.4165\n",
            "Batch 200 Loss 0.4186\n",
            "Batch 300 Loss 0.4370\n",
            "\n",
            "Validating ...\n",
            "\n",
            "Train Loss: 0.4112 Train Accuracy: 86.8551 Validation Loss: 4.2638 Validation Accuracy: 48.0106\n",
            "\n",
            "Time taken for the epoch 17.8525\n",
            "----------------------------------------------------------------------------------------------------\n",
            "EPOCH 28\n",
            "\n",
            "Training ...\n",
            "\n",
            "Batch 1 Loss 0.4286\n",
            "Batch 100 Loss 0.3982\n",
            "Batch 200 Loss 0.4288\n",
            "Batch 300 Loss 0.4549\n",
            "\n",
            "Validating ...\n",
            "\n",
            "Train Loss: 0.4058 Train Accuracy: 86.9859 Validation Loss: 4.3258 Validation Accuracy: 48.0724\n",
            "\n",
            "Time taken for the epoch 20.0073\n",
            "----------------------------------------------------------------------------------------------------\n",
            "EPOCH 29\n",
            "\n",
            "Training ...\n",
            "\n",
            "Batch 1 Loss 0.3916\n",
            "Batch 100 Loss 0.3918\n",
            "Batch 200 Loss 0.4433\n",
            "Batch 300 Loss 0.4132\n",
            "\n",
            "Validating ...\n",
            "\n",
            "Train Loss: 0.4054 Train Accuracy: 86.9996 Validation Loss: 4.2432 Validation Accuracy: 49.8300\n",
            "\n",
            "Time taken for the epoch 19.1057\n",
            "----------------------------------------------------------------------------------------------------\n",
            "EPOCH 30\n",
            "\n",
            "Training ...\n",
            "\n",
            "Batch 1 Loss 0.4287\n",
            "Batch 100 Loss 0.3753\n",
            "Batch 200 Loss 0.3987\n",
            "Batch 300 Loss 0.4004\n",
            "\n",
            "Validating ...\n",
            "\n",
            "Train Loss: 0.4010 Train Accuracy: 87.1266 Validation Loss: 4.1719 Validation Accuracy: 51.2047\n",
            "\n",
            "Time taken for the epoch 18.4211\n",
            "----------------------------------------------------------------------------------------------------\n",
            "\n",
            "Model trained successfully !!\n"
          ]
        },
        {
          "output_type": "display_data",
          "data": {
            "text/plain": [
              "<IPython.core.display.HTML object>"
            ],
            "text/html": []
          },
          "metadata": {}
        },
        {
          "output_type": "display_data",
          "data": {
            "text/plain": [
              "<IPython.core.display.HTML object>"
            ],
            "text/html": [
              "<br>    <style><br>        .wandb-row {<br>            display: flex;<br>            flex-direction: row;<br>            flex-wrap: wrap;<br>            justify-content: flex-start;<br>            width: 100%;<br>        }<br>        .wandb-col {<br>            display: flex;<br>            flex-direction: column;<br>            flex-basis: 100%;<br>            flex: 1;<br>            padding: 10px;<br>        }<br>    </style><br><div class=\"wandb-row\"><div class=\"wandb-col\"><h3>Run history:</h3><br/><table class=\"wandb\"><tr><td>epoch</td><td>▁▁▁▂▂▂▂▃▃▃▃▄▄▄▄▅▅▅▅▆▆▆▆▇▇▇▇███</td></tr><tr><td>train acc</td><td>▁▄▅▅▆▆▆▆▆▇▇▇▇▇▇▇▇▇████████████</td></tr><tr><td>train loss</td><td>█▅▄▄▄▃▃▃▃▂▂▂▂▂▂▂▂▂▁▁▁▁▁▁▁▁▁▁▁▁</td></tr><tr><td>training time</td><td>█▃▁▂▁▁▂▁▁▂▁▂▁▁▂▂▂▂▁▂▁▂▂▁▂▁▁▂▂▁</td></tr><tr><td>val acc</td><td>█▇▃▂▂▁▅▅▄▄▆▅▄▆▇▇▆▆▄▄▆▄▄▅▃▃▄▄▆▇</td></tr><tr><td>val loss</td><td>▁▂▃▄▄▅▅▅▅▅▅▅▆▆▅▆▆▆▆▇▆▇▇▇█████▇</td></tr></table><br/></div><div class=\"wandb-col\"><h3>Run summary:</h3><br/><table class=\"wandb\"><tr><td>epoch</td><td>30</td></tr><tr><td>train acc</td><td>87.12659</td></tr><tr><td>train loss</td><td>0.40101</td></tr><tr><td>training time</td><td>18.42106</td></tr><tr><td>val acc</td><td>51.20467</td></tr><tr><td>val loss</td><td>4.1719</td></tr></table><br/></div></div>"
            ]
          },
          "metadata": {}
        },
        {
          "output_type": "display_data",
          "data": {
            "text/plain": [
              "<IPython.core.display.HTML object>"
            ],
            "text/html": [
              " View run <strong style=\"color:#cdcd00\">summer-sweep-1</strong> at: <a href='https://wandb.ai/ns24z347-indian-institute-of-technology-madras/DA6401_Assignment_3/runs/rviifxcd' target=\"_blank\">https://wandb.ai/ns24z347-indian-institute-of-technology-madras/DA6401_Assignment_3/runs/rviifxcd</a><br> View project at: <a href='https://wandb.ai/ns24z347-indian-institute-of-technology-madras/DA6401_Assignment_3' target=\"_blank\">https://wandb.ai/ns24z347-indian-institute-of-technology-madras/DA6401_Assignment_3</a><br>Synced 5 W&B file(s), 0 media file(s), 0 artifact file(s) and 0 other file(s)"
            ]
          },
          "metadata": {}
        },
        {
          "output_type": "display_data",
          "data": {
            "text/plain": [
              "<IPython.core.display.HTML object>"
            ],
            "text/html": [
              "Find logs at: <code>./wandb/run-20250520_171257-rviifxcd/logs</code>"
            ]
          },
          "metadata": {}
        },
        {
          "output_type": "stream",
          "name": "stderr",
          "text": [
            "\u001b[34m\u001b[1mwandb\u001b[0m: Agent Starting Run: isdxqnwn with config:\n",
            "\u001b[34m\u001b[1mwandb\u001b[0m: \tenc_dec_layers: 1\n",
            "\u001b[34m\u001b[1mwandb\u001b[0m: \tlayer_type: rnn\n",
            "\u001b[34m\u001b[1mwandb\u001b[0m: \tunits: 128\n"
          ]
        },
        {
          "output_type": "display_data",
          "data": {
            "text/plain": [
              "<IPython.core.display.HTML object>"
            ],
            "text/html": [
              "Ignoring project 'DA6401_Assignment3' when running a sweep."
            ]
          },
          "metadata": {}
        },
        {
          "output_type": "display_data",
          "data": {
            "text/plain": [
              "<IPython.core.display.HTML object>"
            ],
            "text/html": [
              "Tracking run with wandb version 0.19.11"
            ]
          },
          "metadata": {}
        },
        {
          "output_type": "display_data",
          "data": {
            "text/plain": [
              "<IPython.core.display.HTML object>"
            ],
            "text/html": [
              "Run data is saved locally in <code>/content/wandb/run-20250520_172300-isdxqnwn</code>"
            ]
          },
          "metadata": {}
        },
        {
          "output_type": "display_data",
          "data": {
            "text/plain": [
              "<IPython.core.display.HTML object>"
            ],
            "text/html": [
              "Syncing run <strong><a href='https://wandb.ai/ns24z347-indian-institute-of-technology-madras/DA6401_Assignment_3/runs/isdxqnwn' target=\"_blank\">visionary-sweep-2</a></strong> to <a href='https://wandb.ai/ns24z347-indian-institute-of-technology-madras/DA6401_Assignment_3' target=\"_blank\">Weights & Biases</a> (<a href='https://wandb.me/developer-guide' target=\"_blank\">docs</a>)<br>Sweep page: <a href='https://wandb.ai/ns24z347-indian-institute-of-technology-madras/DA6401_Assignment_3/sweeps/x7er8mr2' target=\"_blank\">https://wandb.ai/ns24z347-indian-institute-of-technology-madras/DA6401_Assignment_3/sweeps/x7er8mr2</a>"
            ]
          },
          "metadata": {}
        },
        {
          "output_type": "display_data",
          "data": {
            "text/plain": [
              "<IPython.core.display.HTML object>"
            ],
            "text/html": [
              " View project at <a href='https://wandb.ai/ns24z347-indian-institute-of-technology-madras/DA6401_Assignment_3' target=\"_blank\">https://wandb.ai/ns24z347-indian-institute-of-technology-madras/DA6401_Assignment_3</a>"
            ]
          },
          "metadata": {}
        },
        {
          "output_type": "display_data",
          "data": {
            "text/plain": [
              "<IPython.core.display.HTML object>"
            ],
            "text/html": [
              " View sweep at <a href='https://wandb.ai/ns24z347-indian-institute-of-technology-madras/DA6401_Assignment_3/sweeps/x7er8mr2' target=\"_blank\">https://wandb.ai/ns24z347-indian-institute-of-technology-madras/DA6401_Assignment_3/sweeps/x7er8mr2</a>"
            ]
          },
          "metadata": {}
        },
        {
          "output_type": "display_data",
          "data": {
            "text/plain": [
              "<IPython.core.display.HTML object>"
            ],
            "text/html": [
              " View run at <a href='https://wandb.ai/ns24z347-indian-institute-of-technology-madras/DA6401_Assignment_3/runs/isdxqnwn' target=\"_blank\">https://wandb.ai/ns24z347-indian-institute-of-technology-madras/DA6401_Assignment_3/runs/isdxqnwn</a>"
            ]
          },
          "metadata": {}
        },
        {
          "output_type": "stream",
          "name": "stdout",
          "text": [
            "----------------------------------------------------------------------------------------------------\n",
            "EPOCH 1\n",
            "\n",
            "Training ...\n",
            "\n"
          ]
        },
        {
          "output_type": "stream",
          "name": "stderr",
          "text": [
            "/usr/local/lib/python3.11/dist-packages/keras/src/optimizers/base_optimizer.py:774: UserWarning: Gradients do not exist for variables ['seed_generator/seed_generator_state', 'seed_generator_1/seed_generator_state'] when minimizing the loss. If using `model.compile()`, did you forget to provide a `loss` argument?\n",
            "  warnings.warn(\n"
          ]
        },
        {
          "output_type": "stream",
          "name": "stdout",
          "text": [
            "Batch 1 Loss 4.0234\n",
            "Batch 100 Loss 1.0839\n",
            "Batch 200 Loss 0.8878\n",
            "Batch 300 Loss 0.8368\n",
            "\n",
            "Validating ...\n",
            "\n",
            "Train Loss: 1.0009 Train Accuracy: 69.3740 Validation Loss: 2.9367 Validation Accuracy: 43.5145\n",
            "\n",
            "Time taken for the epoch 34.9574\n",
            "----------------------------------------------------------------------------------------------------\n",
            "EPOCH 2\n",
            "\n",
            "Training ...\n",
            "\n",
            "Batch 1 Loss 0.8115\n",
            "Batch 100 Loss 0.7669\n",
            "Batch 200 Loss 0.6966\n",
            "Batch 300 Loss 0.6832\n",
            "\n",
            "Validating ...\n",
            "\n",
            "Train Loss: 0.7172 Train Accuracy: 79.0327 Validation Loss: 3.5095 Validation Accuracy: 41.0943\n",
            "\n",
            "Time taken for the epoch 18.2281\n",
            "----------------------------------------------------------------------------------------------------\n",
            "EPOCH 3\n",
            "\n",
            "Training ...\n",
            "\n",
            "Batch 1 Loss 0.6604\n",
            "Batch 100 Loss 0.6750\n",
            "Batch 200 Loss 0.6417\n",
            "Batch 300 Loss 0.5887\n",
            "\n",
            "Validating ...\n",
            "\n",
            "Train Loss: 0.6294 Train Accuracy: 81.3081 Validation Loss: 3.7669 Validation Accuracy: 40.5909\n",
            "\n",
            "Time taken for the epoch 18.7689\n",
            "----------------------------------------------------------------------------------------------------\n",
            "EPOCH 4\n",
            "\n",
            "Training ...\n",
            "\n",
            "Batch 1 Loss 0.5799\n",
            "Batch 100 Loss 0.5906\n",
            "Batch 200 Loss 0.5833\n",
            "Batch 300 Loss 0.5328\n",
            "\n",
            "Validating ...\n",
            "\n",
            "Train Loss: 0.5718 Train Accuracy: 82.7495 Validation Loss: 3.4725 Validation Accuracy: 45.2114\n",
            "\n",
            "Time taken for the epoch 20.1074\n",
            "----------------------------------------------------------------------------------------------------\n",
            "EPOCH 5\n",
            "\n",
            "Training ...\n",
            "\n",
            "Batch 1 Loss 0.5300\n",
            "Batch 100 Loss 0.6046\n",
            "Batch 200 Loss 0.4946\n",
            "Batch 300 Loss 0.4811\n",
            "\n",
            "Validating ...\n",
            "\n",
            "Train Loss: 0.5226 Train Accuracy: 83.9600 Validation Loss: 3.6434 Validation Accuracy: 44.9272\n",
            "\n",
            "Time taken for the epoch 18.2437\n",
            "----------------------------------------------------------------------------------------------------\n",
            "EPOCH 6\n",
            "\n",
            "Training ...\n",
            "\n",
            "Batch 1 Loss 0.4917\n",
            "Batch 100 Loss 0.4712\n",
            "Batch 200 Loss 0.4584\n",
            "Batch 300 Loss 0.4367\n",
            "\n",
            "Validating ...\n",
            "\n",
            "Train Loss: 0.4801 Train Accuracy: 85.0290 Validation Loss: 3.3901 Validation Accuracy: 48.7128\n",
            "\n",
            "Time taken for the epoch 20.0006\n",
            "----------------------------------------------------------------------------------------------------\n",
            "EPOCH 7\n",
            "\n",
            "Training ...\n",
            "\n",
            "Batch 1 Loss 0.4332\n",
            "Batch 100 Loss 0.4530\n",
            "Batch 200 Loss 0.4184\n",
            "Batch 300 Loss 0.4449\n",
            "\n",
            "Validating ...\n",
            "\n",
            "Train Loss: 0.4492 Train Accuracy: 85.9479 Validation Loss: 3.5700 Validation Accuracy: 48.3163\n",
            "\n",
            "Time taken for the epoch 18.4545\n",
            "----------------------------------------------------------------------------------------------------\n",
            "EPOCH 8\n",
            "\n",
            "Training ...\n",
            "\n",
            "Batch 1 Loss 0.4807\n",
            "Batch 100 Loss 0.4647\n",
            "Batch 200 Loss 0.4500\n",
            "Batch 300 Loss 0.4348\n",
            "\n",
            "Validating ...\n",
            "\n",
            "Train Loss: 0.4251 Train Accuracy: 86.5719 Validation Loss: 3.7087 Validation Accuracy: 48.2397\n",
            "\n",
            "Time taken for the epoch 18.2571\n",
            "----------------------------------------------------------------------------------------------------\n",
            "EPOCH 9\n",
            "\n",
            "Training ...\n",
            "\n",
            "Batch 1 Loss 0.4336\n",
            "Batch 100 Loss 0.4211\n",
            "Batch 200 Loss 0.4069\n",
            "Batch 300 Loss 0.4361\n",
            "\n",
            "Validating ...\n",
            "\n",
            "Train Loss: 0.4042 Train Accuracy: 87.1188 Validation Loss: 3.8593 Validation Accuracy: 46.6806\n",
            "\n",
            "Time taken for the epoch 20.0489\n",
            "----------------------------------------------------------------------------------------------------\n",
            "EPOCH 10\n",
            "\n",
            "Training ...\n",
            "\n",
            "Batch 1 Loss 0.3969\n",
            "Batch 100 Loss 0.4224\n",
            "Batch 200 Loss 0.3884\n",
            "Batch 300 Loss 0.3766\n",
            "\n",
            "Validating ...\n",
            "\n",
            "Train Loss: 0.3867 Train Accuracy: 87.6330 Validation Loss: 4.1928 Validation Accuracy: 43.9875\n",
            "\n",
            "Time taken for the epoch 18.1960\n",
            "----------------------------------------------------------------------------------------------------\n",
            "EPOCH 11\n",
            "\n",
            "Training ...\n",
            "\n",
            "Batch 1 Loss 0.3865\n",
            "Batch 100 Loss 0.3869\n",
            "Batch 200 Loss 0.3632\n",
            "Batch 300 Loss 0.3727\n",
            "\n",
            "Validating ...\n",
            "\n",
            "Train Loss: 0.3699 Train Accuracy: 88.1728 Validation Loss: 4.3141 Validation Accuracy: 43.5009\n",
            "\n",
            "Time taken for the epoch 18.7550\n",
            "----------------------------------------------------------------------------------------------------\n",
            "EPOCH 12\n",
            "\n",
            "Training ...\n",
            "\n",
            "Batch 1 Loss 0.3326\n",
            "Batch 100 Loss 0.3885\n",
            "Batch 200 Loss 0.3535\n",
            "Batch 300 Loss 0.3466\n",
            "\n",
            "Validating ...\n",
            "\n",
            "Train Loss: 0.3553 Train Accuracy: 88.5366 Validation Loss: 3.8590 Validation Accuracy: 47.4552\n",
            "\n",
            "Time taken for the epoch 20.3667\n",
            "----------------------------------------------------------------------------------------------------\n",
            "EPOCH 13\n",
            "\n",
            "Training ...\n",
            "\n",
            "Batch 1 Loss 0.3733\n",
            "Batch 100 Loss 0.3172\n",
            "Batch 200 Loss 0.3046\n",
            "Batch 300 Loss 0.3594\n",
            "\n",
            "Validating ...\n",
            "\n",
            "Train Loss: 0.3441 Train Accuracy: 88.8976 Validation Loss: 4.3501 Validation Accuracy: 43.8486\n",
            "\n",
            "Time taken for the epoch 18.4199\n",
            "----------------------------------------------------------------------------------------------------\n",
            "EPOCH 14\n",
            "\n",
            "Training ...\n",
            "\n",
            "Batch 1 Loss 0.3544\n",
            "Batch 100 Loss 0.3469\n",
            "Batch 200 Loss 0.3342\n",
            "Batch 300 Loss 0.3227\n",
            "\n",
            "Validating ...\n",
            "\n",
            "Train Loss: 0.3336 Train Accuracy: 89.2527 Validation Loss: 4.1942 Validation Accuracy: 45.3097\n",
            "\n",
            "Time taken for the epoch 18.9228\n",
            "----------------------------------------------------------------------------------------------------\n",
            "EPOCH 15\n",
            "\n",
            "Training ...\n",
            "\n",
            "Batch 1 Loss 0.3161\n",
            "Batch 100 Loss 0.3342\n",
            "Batch 200 Loss 0.2726\n",
            "Batch 300 Loss 0.3300\n",
            "\n",
            "Validating ...\n",
            "\n",
            "Train Loss: 0.3255 Train Accuracy: 89.5259 Validation Loss: 3.9833 Validation Accuracy: 47.3927\n",
            "\n",
            "Time taken for the epoch 19.1206\n",
            "----------------------------------------------------------------------------------------------------\n",
            "EPOCH 16\n",
            "\n",
            "Training ...\n",
            "\n",
            "Batch 1 Loss 0.3144\n",
            "Batch 100 Loss 0.3421\n",
            "Batch 200 Loss 0.3183\n",
            "Batch 300 Loss 0.2998\n",
            "\n",
            "Validating ...\n",
            "\n",
            "Train Loss: 0.3167 Train Accuracy: 89.6801 Validation Loss: 4.3250 Validation Accuracy: 45.4630\n",
            "\n",
            "Time taken for the epoch 18.2105\n",
            "----------------------------------------------------------------------------------------------------\n",
            "EPOCH 17\n",
            "\n",
            "Training ...\n",
            "\n",
            "Batch 1 Loss 0.3369\n",
            "Batch 100 Loss 0.3425\n",
            "Batch 200 Loss 0.2814\n",
            "Batch 300 Loss 0.3324\n",
            "\n",
            "Validating ...\n",
            "\n",
            "Train Loss: 0.3111 Train Accuracy: 89.8713 Validation Loss: 4.2648 Validation Accuracy: 45.6257\n",
            "\n",
            "Time taken for the epoch 19.7487\n",
            "----------------------------------------------------------------------------------------------------\n",
            "EPOCH 18\n",
            "\n",
            "Training ...\n",
            "\n",
            "Batch 1 Loss 0.3283\n",
            "Batch 100 Loss 0.3051\n",
            "Batch 200 Loss 0.2852\n",
            "Batch 300 Loss 0.2935\n",
            "\n",
            "Validating ...\n",
            "\n",
            "Train Loss: 0.3013 Train Accuracy: 90.2394 Validation Loss: 4.3343 Validation Accuracy: 45.7479\n",
            "\n",
            "Time taken for the epoch 18.2556\n",
            "----------------------------------------------------------------------------------------------------\n",
            "EPOCH 19\n",
            "\n",
            "Training ...\n",
            "\n",
            "Batch 1 Loss 0.3076\n",
            "Batch 100 Loss 0.2611\n",
            "Batch 200 Loss 0.2756\n",
            "Batch 300 Loss 0.3008\n",
            "\n",
            "Validating ...\n",
            "\n",
            "Train Loss: 0.2961 Train Accuracy: 90.3722 Validation Loss: 4.2950 Validation Accuracy: 46.2072\n",
            "\n",
            "Time taken for the epoch 17.9124\n",
            "----------------------------------------------------------------------------------------------------\n",
            "EPOCH 20\n",
            "\n",
            "Training ...\n",
            "\n",
            "Batch 1 Loss 0.2554\n",
            "Batch 100 Loss 0.2705\n",
            "Batch 200 Loss 0.2615\n",
            "Batch 300 Loss 0.3155\n",
            "\n",
            "Validating ...\n",
            "\n",
            "Train Loss: 0.2914 Train Accuracy: 90.5412 Validation Loss: 4.3828 Validation Accuracy: 45.7891\n",
            "\n",
            "Time taken for the epoch 19.7723\n",
            "----------------------------------------------------------------------------------------------------\n",
            "EPOCH 21\n",
            "\n",
            "Training ...\n",
            "\n",
            "Batch 1 Loss 0.3106\n",
            "Batch 100 Loss 0.3158\n",
            "Batch 200 Loss 0.2783\n",
            "Batch 300 Loss 0.2636\n",
            "\n",
            "Validating ...\n",
            "\n",
            "Train Loss: 0.2864 Train Accuracy: 90.6432 Validation Loss: 4.3856 Validation Accuracy: 46.1592\n",
            "\n",
            "Time taken for the epoch 17.9875\n",
            "----------------------------------------------------------------------------------------------------\n",
            "EPOCH 22\n",
            "\n",
            "Training ...\n",
            "\n",
            "Batch 1 Loss 0.2351\n",
            "Batch 100 Loss 0.2622\n",
            "Batch 200 Loss 0.2460\n",
            "Batch 300 Loss 0.2557\n",
            "\n",
            "Validating ...\n",
            "\n",
            "Train Loss: 0.2820 Train Accuracy: 90.8803 Validation Loss: 4.6347 Validation Accuracy: 44.5409\n",
            "\n",
            "Time taken for the epoch 18.0845\n",
            "----------------------------------------------------------------------------------------------------\n",
            "EPOCH 23\n",
            "\n",
            "Training ...\n",
            "\n",
            "Batch 1 Loss 0.2880\n",
            "Batch 100 Loss 0.2687\n",
            "Batch 200 Loss 0.2896\n",
            "Batch 300 Loss 0.2815\n",
            "\n",
            "Validating ...\n",
            "\n",
            "Train Loss: 0.2771 Train Accuracy: 90.9796 Validation Loss: 4.7641 Validation Accuracy: 44.0503\n",
            "\n",
            "Time taken for the epoch 19.7403\n",
            "----------------------------------------------------------------------------------------------------\n",
            "EPOCH 24\n",
            "\n",
            "Training ...\n",
            "\n",
            "Batch 1 Loss 0.2526\n",
            "Batch 100 Loss 0.2638\n",
            "Batch 200 Loss 0.3002\n",
            "Batch 300 Loss 0.2572\n",
            "\n",
            "Validating ...\n",
            "\n",
            "Train Loss: 0.2745 Train Accuracy: 91.0588 Validation Loss: 4.2667 Validation Accuracy: 47.5817\n",
            "\n",
            "Time taken for the epoch 18.2370\n",
            "----------------------------------------------------------------------------------------------------\n",
            "EPOCH 25\n",
            "\n",
            "Training ...\n",
            "\n",
            "Batch 1 Loss 0.2816\n",
            "Batch 100 Loss 0.2819\n",
            "Batch 200 Loss 0.2814\n",
            "Batch 300 Loss 0.2736\n",
            "\n",
            "Validating ...\n",
            "\n",
            "Train Loss: 0.2703 Train Accuracy: 91.2009 Validation Loss: 4.7680 Validation Accuracy: 44.2924\n",
            "\n",
            "Time taken for the epoch 18.1281\n",
            "----------------------------------------------------------------------------------------------------\n",
            "EPOCH 26\n",
            "\n",
            "Training ...\n",
            "\n",
            "Batch 1 Loss 0.2468\n",
            "Batch 100 Loss 0.2274\n",
            "Batch 200 Loss 0.2273\n",
            "Batch 300 Loss 0.2758\n",
            "\n",
            "Validating ...\n",
            "\n",
            "Train Loss: 0.2657 Train Accuracy: 91.2835 Validation Loss: 4.7035 Validation Accuracy: 44.8016\n",
            "\n",
            "Time taken for the epoch 20.3692\n",
            "----------------------------------------------------------------------------------------------------\n",
            "EPOCH 27\n",
            "\n",
            "Training ...\n",
            "\n",
            "Batch 1 Loss 0.2836\n",
            "Batch 100 Loss 0.2836\n",
            "Batch 200 Loss 0.2707\n",
            "Batch 300 Loss 0.2749\n",
            "\n",
            "Validating ...\n",
            "\n",
            "Train Loss: 0.2635 Train Accuracy: 91.3719 Validation Loss: 4.5960 Validation Accuracy: 45.2253\n",
            "\n",
            "Time taken for the epoch 18.4550\n",
            "----------------------------------------------------------------------------------------------------\n",
            "EPOCH 28\n",
            "\n",
            "Training ...\n",
            "\n",
            "Batch 1 Loss 0.2772\n",
            "Batch 100 Loss 0.2799\n",
            "Batch 200 Loss 0.2838\n",
            "Batch 300 Loss 0.2185\n",
            "\n",
            "Validating ...\n",
            "\n",
            "Train Loss: 0.2604 Train Accuracy: 91.4643 Validation Loss: 4.8030 Validation Accuracy: 44.6218\n",
            "\n",
            "Time taken for the epoch 19.9685\n",
            "----------------------------------------------------------------------------------------------------\n",
            "EPOCH 29\n",
            "\n",
            "Training ...\n",
            "\n",
            "Batch 1 Loss 0.2561\n",
            "Batch 100 Loss 0.2344\n",
            "Batch 200 Loss 0.2637\n",
            "Batch 300 Loss 0.2334\n",
            "\n",
            "Validating ...\n",
            "\n",
            "Train Loss: 0.2579 Train Accuracy: 91.5689 Validation Loss: 4.7492 Validation Accuracy: 45.4080\n",
            "\n",
            "Time taken for the epoch 22.1776\n",
            "----------------------------------------------------------------------------------------------------\n",
            "EPOCH 30\n",
            "\n",
            "Training ...\n",
            "\n",
            "Batch 1 Loss 0.2584\n",
            "Batch 100 Loss 0.2820\n",
            "Batch 200 Loss 0.2456\n",
            "Batch 300 Loss 0.2577\n",
            "\n",
            "Validating ...\n",
            "\n",
            "Train Loss: 0.2546 Train Accuracy: 91.6906 Validation Loss: 4.7315 Validation Accuracy: 45.3895\n",
            "\n",
            "Time taken for the epoch 19.4540\n",
            "----------------------------------------------------------------------------------------------------\n",
            "\n",
            "Model trained successfully !!\n"
          ]
        },
        {
          "output_type": "display_data",
          "data": {
            "text/plain": [
              "<IPython.core.display.HTML object>"
            ],
            "text/html": []
          },
          "metadata": {}
        },
        {
          "output_type": "display_data",
          "data": {
            "text/plain": [
              "<IPython.core.display.HTML object>"
            ],
            "text/html": [
              "<br>    <style><br>        .wandb-row {<br>            display: flex;<br>            flex-direction: row;<br>            flex-wrap: wrap;<br>            justify-content: flex-start;<br>            width: 100%;<br>        }<br>        .wandb-col {<br>            display: flex;<br>            flex-direction: column;<br>            flex-basis: 100%;<br>            flex: 1;<br>            padding: 10px;<br>        }<br>    </style><br><div class=\"wandb-row\"><div class=\"wandb-col\"><h3>Run history:</h3><br/><table class=\"wandb\"><tr><td>epoch</td><td>▁▁▁▂▂▂▂▃▃▃▃▄▄▄▄▅▅▅▅▆▆▆▆▇▇▇▇███</td></tr><tr><td>train acc</td><td>▁▄▅▅▆▆▆▆▇▇▇▇▇▇▇▇▇█████████████</td></tr><tr><td>train loss</td><td>█▅▅▄▄▃▃▃▂▂▂▂▂▂▂▂▂▁▁▁▁▁▁▁▁▁▁▁▁▁</td></tr><tr><td>training time</td><td>█▁▁▂▁▂▁▁▂▁▁▂▁▁▁▁▂▁▁▂▁▁▂▁▁▂▁▂▃▂</td></tr><tr><td>val acc</td><td>▄▁▁▅▅███▆▄▄▇▄▅▇▅▅▅▆▅▆▄▄▇▄▅▅▄▅▅</td></tr><tr><td>val loss</td><td>▁▃▄▃▄▃▃▄▄▆▆▄▆▆▅▆▆▆▆▆▆▇█▆██▇███</td></tr></table><br/></div><div class=\"wandb-col\"><h3>Run summary:</h3><br/><table class=\"wandb\"><tr><td>epoch</td><td>30</td></tr><tr><td>train acc</td><td>91.69061</td></tr><tr><td>train loss</td><td>0.25459</td></tr><tr><td>training time</td><td>19.454</td></tr><tr><td>val acc</td><td>45.38946</td></tr><tr><td>val loss</td><td>4.73149</td></tr></table><br/></div></div>"
            ]
          },
          "metadata": {}
        },
        {
          "output_type": "display_data",
          "data": {
            "text/plain": [
              "<IPython.core.display.HTML object>"
            ],
            "text/html": [
              " View run <strong style=\"color:#cdcd00\">visionary-sweep-2</strong> at: <a href='https://wandb.ai/ns24z347-indian-institute-of-technology-madras/DA6401_Assignment_3/runs/isdxqnwn' target=\"_blank\">https://wandb.ai/ns24z347-indian-institute-of-technology-madras/DA6401_Assignment_3/runs/isdxqnwn</a><br> View project at: <a href='https://wandb.ai/ns24z347-indian-institute-of-technology-madras/DA6401_Assignment_3' target=\"_blank\">https://wandb.ai/ns24z347-indian-institute-of-technology-madras/DA6401_Assignment_3</a><br>Synced 5 W&B file(s), 0 media file(s), 0 artifact file(s) and 0 other file(s)"
            ]
          },
          "metadata": {}
        },
        {
          "output_type": "display_data",
          "data": {
            "text/plain": [
              "<IPython.core.display.HTML object>"
            ],
            "text/html": [
              "Find logs at: <code>./wandb/run-20250520_172300-isdxqnwn/logs</code>"
            ]
          },
          "metadata": {}
        },
        {
          "output_type": "stream",
          "name": "stderr",
          "text": [
            "\u001b[34m\u001b[1mwandb\u001b[0m: Agent Starting Run: ujvw352o with config:\n",
            "\u001b[34m\u001b[1mwandb\u001b[0m: \tenc_dec_layers: 1\n",
            "\u001b[34m\u001b[1mwandb\u001b[0m: \tlayer_type: rnn\n",
            "\u001b[34m\u001b[1mwandb\u001b[0m: \tunits: 256\n"
          ]
        },
        {
          "output_type": "display_data",
          "data": {
            "text/plain": [
              "<IPython.core.display.HTML object>"
            ],
            "text/html": [
              "Ignoring project 'DA6401_Assignment3' when running a sweep."
            ]
          },
          "metadata": {}
        },
        {
          "output_type": "display_data",
          "data": {
            "text/plain": [
              "<IPython.core.display.HTML object>"
            ],
            "text/html": [
              "Tracking run with wandb version 0.19.11"
            ]
          },
          "metadata": {}
        },
        {
          "output_type": "display_data",
          "data": {
            "text/plain": [
              "<IPython.core.display.HTML object>"
            ],
            "text/html": [
              "Run data is saved locally in <code>/content/wandb/run-20250520_173256-ujvw352o</code>"
            ]
          },
          "metadata": {}
        },
        {
          "output_type": "display_data",
          "data": {
            "text/plain": [
              "<IPython.core.display.HTML object>"
            ],
            "text/html": [
              "Syncing run <strong><a href='https://wandb.ai/ns24z347-indian-institute-of-technology-madras/DA6401_Assignment_3/runs/ujvw352o' target=\"_blank\">zany-sweep-3</a></strong> to <a href='https://wandb.ai/ns24z347-indian-institute-of-technology-madras/DA6401_Assignment_3' target=\"_blank\">Weights & Biases</a> (<a href='https://wandb.me/developer-guide' target=\"_blank\">docs</a>)<br>Sweep page: <a href='https://wandb.ai/ns24z347-indian-institute-of-technology-madras/DA6401_Assignment_3/sweeps/x7er8mr2' target=\"_blank\">https://wandb.ai/ns24z347-indian-institute-of-technology-madras/DA6401_Assignment_3/sweeps/x7er8mr2</a>"
            ]
          },
          "metadata": {}
        },
        {
          "output_type": "display_data",
          "data": {
            "text/plain": [
              "<IPython.core.display.HTML object>"
            ],
            "text/html": [
              " View project at <a href='https://wandb.ai/ns24z347-indian-institute-of-technology-madras/DA6401_Assignment_3' target=\"_blank\">https://wandb.ai/ns24z347-indian-institute-of-technology-madras/DA6401_Assignment_3</a>"
            ]
          },
          "metadata": {}
        },
        {
          "output_type": "display_data",
          "data": {
            "text/plain": [
              "<IPython.core.display.HTML object>"
            ],
            "text/html": [
              " View sweep at <a href='https://wandb.ai/ns24z347-indian-institute-of-technology-madras/DA6401_Assignment_3/sweeps/x7er8mr2' target=\"_blank\">https://wandb.ai/ns24z347-indian-institute-of-technology-madras/DA6401_Assignment_3/sweeps/x7er8mr2</a>"
            ]
          },
          "metadata": {}
        },
        {
          "output_type": "display_data",
          "data": {
            "text/plain": [
              "<IPython.core.display.HTML object>"
            ],
            "text/html": [
              " View run at <a href='https://wandb.ai/ns24z347-indian-institute-of-technology-madras/DA6401_Assignment_3/runs/ujvw352o' target=\"_blank\">https://wandb.ai/ns24z347-indian-institute-of-technology-madras/DA6401_Assignment_3/runs/ujvw352o</a>"
            ]
          },
          "metadata": {}
        },
        {
          "output_type": "stream",
          "name": "stdout",
          "text": [
            "----------------------------------------------------------------------------------------------------\n",
            "EPOCH 1\n",
            "\n",
            "Training ...\n",
            "\n"
          ]
        },
        {
          "output_type": "stream",
          "name": "stderr",
          "text": [
            "/usr/local/lib/python3.11/dist-packages/keras/src/optimizers/base_optimizer.py:774: UserWarning: Gradients do not exist for variables ['seed_generator/seed_generator_state', 'seed_generator_1/seed_generator_state'] when minimizing the loss. If using `model.compile()`, did you forget to provide a `loss` argument?\n",
            "  warnings.warn(\n"
          ]
        },
        {
          "output_type": "stream",
          "name": "stdout",
          "text": [
            "Batch 1 Loss 3.9987\n",
            "Batch 100 Loss 1.0390\n",
            "Batch 200 Loss 0.8480\n",
            "Batch 300 Loss 0.7417\n",
            "\n",
            "Validating ...\n",
            "\n",
            "Train Loss: 0.9606 Train Accuracy: 69.7128 Validation Loss: 2.8594 Validation Accuracy: 48.6685\n",
            "\n",
            "Time taken for the epoch 68.2010\n",
            "----------------------------------------------------------------------------------------------------\n",
            "EPOCH 2\n",
            "\n",
            "Training ...\n",
            "\n",
            "Batch 1 Loss 0.7213\n",
            "Batch 100 Loss 0.6432\n",
            "Batch 200 Loss 0.5968\n",
            "Batch 300 Loss 0.5641\n",
            "\n",
            "Validating ...\n",
            "\n",
            "Train Loss: 0.6226 Train Accuracy: 81.0083 Validation Loss: 3.1627 Validation Accuracy: 47.6428\n",
            "\n",
            "Time taken for the epoch 22.1483\n",
            "----------------------------------------------------------------------------------------------------\n",
            "EPOCH 3\n",
            "\n",
            "Training ...\n",
            "\n",
            "Batch 1 Loss 0.5786\n",
            "Batch 100 Loss 0.5071\n",
            "Batch 200 Loss 0.4546\n",
            "Batch 300 Loss 0.4397\n",
            "\n",
            "Validating ...\n",
            "\n",
            "Train Loss: 0.4920 Train Accuracy: 84.4298 Validation Loss: 3.1909 Validation Accuracy: 49.0649\n",
            "\n",
            "Time taken for the epoch 23.0524\n",
            "----------------------------------------------------------------------------------------------------\n",
            "EPOCH 4\n",
            "\n",
            "Training ...\n",
            "\n",
            "Batch 1 Loss 0.4403\n",
            "Batch 100 Loss 0.3767\n",
            "Batch 200 Loss 0.3964\n",
            "Batch 300 Loss 0.3722\n",
            "\n",
            "Validating ...\n",
            "\n",
            "Train Loss: 0.4132 Train Accuracy: 86.8315 Validation Loss: 3.4005 Validation Accuracy: 47.8474\n",
            "\n",
            "Time taken for the epoch 29.3214\n",
            "----------------------------------------------------------------------------------------------------\n",
            "EPOCH 5\n",
            "\n",
            "Training ...\n",
            "\n",
            "Batch 1 Loss 0.3982\n",
            "Batch 100 Loss 0.3675\n",
            "Batch 200 Loss 0.3535\n",
            "Batch 300 Loss 0.3567\n",
            "\n",
            "Validating ...\n",
            "\n",
            "Train Loss: 0.3620 Train Accuracy: 88.2458 Validation Loss: 3.3433 Validation Accuracy: 49.5162\n",
            "\n",
            "Time taken for the epoch 19.2857\n",
            "----------------------------------------------------------------------------------------------------\n",
            "EPOCH 6\n",
            "\n",
            "Training ...\n",
            "\n",
            "Batch 1 Loss 0.3373\n",
            "Batch 100 Loss 0.3724\n",
            "Batch 200 Loss 0.3213\n",
            "Batch 300 Loss 0.3280\n",
            "\n",
            "Validating ...\n",
            "\n",
            "Train Loss: 0.3288 Train Accuracy: 89.3022 Validation Loss: 3.8654 Validation Accuracy: 46.5741\n",
            "\n",
            "Time taken for the epoch 20.7149\n",
            "----------------------------------------------------------------------------------------------------\n",
            "EPOCH 7\n",
            "\n",
            "Training ...\n",
            "\n",
            "Batch 1 Loss 0.3025\n",
            "Batch 100 Loss 0.3208\n"
          ]
        },
        {
          "output_type": "stream",
          "name": "stderr",
          "text": [
            "\u001b[34m\u001b[1mwandb\u001b[0m: Ctrl + C detected. Stopping sweep.\n"
          ]
        }
      ]
    },
    {
      "cell_type": "code",
      "metadata": {
        "id": "udwQHu1rVp0y"
      },
      "source": [
        "sweep_config2 = {\n",
        "  \"name\": \"Sweep 2- Assignment3\",\n",
        "  \"method\": \"grid\",\n",
        "  \"parameters\": {\n",
        "        \"enc_dec_layers\": {\n",
        "           \"values\": [2, 3]\n",
        "        },\n",
        "        \"embedding_dim\": {\n",
        "            \"values\": [64, 128, 256]\n",
        "        },\n",
        "        \"dropout\": {\n",
        "            \"values\": [0.2, 0.3]\n",
        "        }\n",
        "    }\n",
        "}"
      ],
      "execution_count": null,
      "outputs": []
    },
    {
      "cell_type": "code",
      "metadata": {
        "colab": {
          "base_uri": "https://localhost:8080/",
          "height": 141
        },
        "id": "nesauNeSzcbk",
        "outputId": "351a409c-6a83-417e-fa35-c4bd61ff442b"
      },
      "source": [
        "sweep_id2 = wandb.sweep(sweep_config2, project=\"DA6401_ssignment3\")"
      ],
      "execution_count": 2,
      "outputs": [
        {
          "output_type": "error",
          "ename": "NameError",
          "evalue": "name 'wandb' is not defined",
          "traceback": [
            "\u001b[0;31m---------------------------------------------------------------------------\u001b[0m",
            "\u001b[0;31mNameError\u001b[0m                                 Traceback (most recent call last)",
            "\u001b[0;32m<ipython-input-2-9784cbda007f>\u001b[0m in \u001b[0;36m<cell line: 0>\u001b[0;34m()\u001b[0m\n\u001b[0;32m----> 1\u001b[0;31m \u001b[0msweep_id2\u001b[0m \u001b[0;34m=\u001b[0m \u001b[0mwandb\u001b[0m\u001b[0;34m.\u001b[0m\u001b[0msweep\u001b[0m\u001b[0;34m(\u001b[0m\u001b[0msweep_config2\u001b[0m\u001b[0;34m,\u001b[0m \u001b[0mproject\u001b[0m\u001b[0;34m=\u001b[0m\u001b[0;34m\"DA6401_ssignment3\"\u001b[0m\u001b[0;34m)\u001b[0m\u001b[0;34m\u001b[0m\u001b[0;34m\u001b[0m\u001b[0m\n\u001b[0m",
            "\u001b[0;31mNameError\u001b[0m: name 'wandb' is not defined"
          ]
        }
      ]
    },
    {
      "cell_type": "code",
      "metadata": {
        "colab": {
          "base_uri": "https://localhost:8080/",
          "height": 141
        },
        "id": "eC6_eZIIzgAm",
        "outputId": "905b3fd0-d30e-43da-9787-8540021fef55"
      },
      "source": [
        "wandb.agent(sweep_id2, function=lambda: train_with_wandb(\"hi\"))"
      ],
      "execution_count": 3,
      "outputs": [
        {
          "output_type": "error",
          "ename": "NameError",
          "evalue": "name 'wandb' is not defined",
          "traceback": [
            "\u001b[0;31m---------------------------------------------------------------------------\u001b[0m",
            "\u001b[0;31mNameError\u001b[0m                                 Traceback (most recent call last)",
            "\u001b[0;32m<ipython-input-3-f147c8d3131b>\u001b[0m in \u001b[0;36m<cell line: 0>\u001b[0;34m()\u001b[0m\n\u001b[0;32m----> 1\u001b[0;31m \u001b[0mwandb\u001b[0m\u001b[0;34m.\u001b[0m\u001b[0magent\u001b[0m\u001b[0;34m(\u001b[0m\u001b[0msweep_id2\u001b[0m\u001b[0;34m,\u001b[0m \u001b[0mfunction\u001b[0m\u001b[0;34m=\u001b[0m\u001b[0;32mlambda\u001b[0m\u001b[0;34m:\u001b[0m \u001b[0mtrain_with_wandb\u001b[0m\u001b[0;34m(\u001b[0m\u001b[0;34m\"hi\"\u001b[0m\u001b[0;34m)\u001b[0m\u001b[0;34m)\u001b[0m\u001b[0;34m\u001b[0m\u001b[0;34m\u001b[0m\u001b[0m\n\u001b[0m",
            "\u001b[0;31mNameError\u001b[0m: name 'wandb' is not defined"
          ]
        }
      ]
    },
    {
      "cell_type": "code",
      "metadata": {
        "id": "xmCPXKlFz4_T"
      },
      "source": [
        "sweep_config3 = {\n",
        "  \"name\": \"Sweep 3- Assignment3\",\n",
        "  \"method\": \"grid\",\n",
        "  \"parameters\": {\n",
        "\n",
        "        \"beam_width\": {\n",
        "            \"values\": [3, 5, 7]\n",
        "        }\n",
        "    }\n",
        "}"
      ],
      "execution_count": null,
      "outputs": []
    },
    {
      "cell_type": "code",
      "metadata": {
        "colab": {
          "base_uri": "https://localhost:8080/",
          "height": 141
        },
        "id": "VKNSElH9lman",
        "outputId": "5ed36340-1694-4a68-e431-03250cc4ef15"
      },
      "source": [
        "sweep_id3 = wandb.sweep(sweep_config3, project=\"DA6401_Assignment3\")"
      ],
      "execution_count": 4,
      "outputs": [
        {
          "output_type": "error",
          "ename": "NameError",
          "evalue": "name 'wandb' is not defined",
          "traceback": [
            "\u001b[0;31m---------------------------------------------------------------------------\u001b[0m",
            "\u001b[0;31mNameError\u001b[0m                                 Traceback (most recent call last)",
            "\u001b[0;32m<ipython-input-4-15ea4ff59308>\u001b[0m in \u001b[0;36m<cell line: 0>\u001b[0;34m()\u001b[0m\n\u001b[0;32m----> 1\u001b[0;31m \u001b[0msweep_id3\u001b[0m \u001b[0;34m=\u001b[0m \u001b[0mwandb\u001b[0m\u001b[0;34m.\u001b[0m\u001b[0msweep\u001b[0m\u001b[0;34m(\u001b[0m\u001b[0msweep_config3\u001b[0m\u001b[0;34m,\u001b[0m \u001b[0mproject\u001b[0m\u001b[0;34m=\u001b[0m\u001b[0;34m\"DA6401_Assignment3\"\u001b[0m\u001b[0;34m)\u001b[0m\u001b[0;34m\u001b[0m\u001b[0;34m\u001b[0m\u001b[0m\n\u001b[0m",
            "\u001b[0;31mNameError\u001b[0m: name 'wandb' is not defined"
          ]
        }
      ]
    },
    {
      "cell_type": "code",
      "metadata": {
        "colab": {
          "base_uri": "https://localhost:8080/",
          "height": 141
        },
        "id": "Ys0LWC8Bl0Mc",
        "outputId": "222fbb56-6b0d-4d7f-df5b-7e8fb2bdd1ce"
      },
      "source": [
        "wandb.agent(sweep_id3, function=lambda: train_with_wandb(\"hi\", test_beam_search=True))"
      ],
      "execution_count": 1,
      "outputs": [
        {
          "output_type": "error",
          "ename": "NameError",
          "evalue": "name 'wandb' is not defined",
          "traceback": [
            "\u001b[0;31m---------------------------------------------------------------------------\u001b[0m",
            "\u001b[0;31mNameError\u001b[0m                                 Traceback (most recent call last)",
            "\u001b[0;32m<ipython-input-1-5a31f0a1e093>\u001b[0m in \u001b[0;36m<cell line: 0>\u001b[0;34m()\u001b[0m\n\u001b[0;32m----> 1\u001b[0;31m \u001b[0mwandb\u001b[0m\u001b[0;34m.\u001b[0m\u001b[0magent\u001b[0m\u001b[0;34m(\u001b[0m\u001b[0msweep_id3\u001b[0m\u001b[0;34m,\u001b[0m \u001b[0mfunction\u001b[0m\u001b[0;34m=\u001b[0m\u001b[0;32mlambda\u001b[0m\u001b[0;34m:\u001b[0m \u001b[0mtrain_with_wandb\u001b[0m\u001b[0;34m(\u001b[0m\u001b[0;34m\"hi\"\u001b[0m\u001b[0;34m,\u001b[0m \u001b[0mtest_beam_search\u001b[0m\u001b[0;34m=\u001b[0m\u001b[0;32mTrue\u001b[0m\u001b[0;34m)\u001b[0m\u001b[0;34m)\u001b[0m\u001b[0;34m\u001b[0m\u001b[0;34m\u001b[0m\u001b[0m\n\u001b[0m",
            "\u001b[0;31mNameError\u001b[0m: name 'wandb' is not defined"
          ]
        }
      ]
    },
    {
      "cell_type": "code",
      "metadata": {
        "id": "CRpy2AYBl_OZ"
      },
      "source": [
        "sweep_config4 = {\n",
        "  \"name\": \"Sweep 4- Assignment3\",\n",
        "  \"method\": \"grid\",\n",
        "  \"parameters\": {\n",
        "        \"teacher_forcing_ratio\": {\n",
        "            \"values\": [0.3, 0.5, 0.7, 0.9]\n",
        "        },\n",
        "        \"enc_dec_layers\": {\n",
        "            \"values\": [2]\n",
        "        },\n",
        "        \"embedding_dim\": {\n",
        "            \"values\": [128]\n",
        "        },\n",
        "        \"dropout\": {\n",
        "            \"values\": [0.2]\n",
        "        }\n",
        "    }\n",
        "}"
      ],
      "execution_count": null,
      "outputs": []
    },
    {
      "cell_type": "code",
      "metadata": {
        "colab": {
          "base_uri": "https://localhost:8080/",
          "height": 141
        },
        "id": "H8NhcYZBBGmp",
        "outputId": "2419a140-fa11-4859-dcc6-8eb624109e2c"
      },
      "source": [
        "sweep_id4 = wandb.sweep(sweep_config4, project=\"DA6401_Assignment3\")"
      ],
      "execution_count": 6,
      "outputs": [
        {
          "output_type": "error",
          "ename": "NameError",
          "evalue": "name 'wandb' is not defined",
          "traceback": [
            "\u001b[0;31m---------------------------------------------------------------------------\u001b[0m",
            "\u001b[0;31mNameError\u001b[0m                                 Traceback (most recent call last)",
            "\u001b[0;32m<ipython-input-6-d0607e66d1bc>\u001b[0m in \u001b[0;36m<cell line: 0>\u001b[0;34m()\u001b[0m\n\u001b[0;32m----> 1\u001b[0;31m \u001b[0msweep_id4\u001b[0m \u001b[0;34m=\u001b[0m \u001b[0mwandb\u001b[0m\u001b[0;34m.\u001b[0m\u001b[0msweep\u001b[0m\u001b[0;34m(\u001b[0m\u001b[0msweep_config4\u001b[0m\u001b[0;34m,\u001b[0m \u001b[0mproject\u001b[0m\u001b[0;34m=\u001b[0m\u001b[0;34m\"DA6401_Assignment3\"\u001b[0m\u001b[0;34m)\u001b[0m\u001b[0;34m\u001b[0m\u001b[0;34m\u001b[0m\u001b[0m\n\u001b[0m",
            "\u001b[0;31mNameError\u001b[0m: name 'wandb' is not defined"
          ]
        }
      ]
    },
    {
      "cell_type": "code",
      "metadata": {
        "colab": {
          "base_uri": "https://localhost:8080/",
          "height": 141
        },
        "id": "tIOYaHMBBPTw",
        "outputId": "643072d7-1f09-44e8-cc67-6945a4e1c720"
      },
      "source": [
        "wandb.agent(sweep_id4, function=lambda: train_with_wandb(\"hi\"))"
      ],
      "execution_count": 7,
      "outputs": [
        {
          "output_type": "error",
          "ename": "NameError",
          "evalue": "name 'wandb' is not defined",
          "traceback": [
            "\u001b[0;31m---------------------------------------------------------------------------\u001b[0m",
            "\u001b[0;31mNameError\u001b[0m                                 Traceback (most recent call last)",
            "\u001b[0;32m<ipython-input-7-0a2606062963>\u001b[0m in \u001b[0;36m<cell line: 0>\u001b[0;34m()\u001b[0m\n\u001b[0;32m----> 1\u001b[0;31m \u001b[0mwandb\u001b[0m\u001b[0;34m.\u001b[0m\u001b[0magent\u001b[0m\u001b[0;34m(\u001b[0m\u001b[0msweep_id4\u001b[0m\u001b[0;34m,\u001b[0m \u001b[0mfunction\u001b[0m\u001b[0;34m=\u001b[0m\u001b[0;32mlambda\u001b[0m\u001b[0;34m:\u001b[0m \u001b[0mtrain_with_wandb\u001b[0m\u001b[0;34m(\u001b[0m\u001b[0;34m\"hi\"\u001b[0m\u001b[0;34m)\u001b[0m\u001b[0;34m)\u001b[0m\u001b[0;34m\u001b[0m\u001b[0;34m\u001b[0m\u001b[0m\n\u001b[0m",
            "\u001b[0;31mNameError\u001b[0m: name 'wandb' is not defined"
          ]
        }
      ]
    },
    {
      "cell_type": "markdown",
      "metadata": {
        "id": "2Kx44JYk6uXr"
      },
      "source": [
        "# Sweeps with Attention"
      ]
    },
    {
      "cell_type": "code",
      "metadata": {
        "id": "h6ZvJVNy6mxE"
      },
      "source": [
        "sweep_config5 = {\n",
        "  \"name\": \"Attention Sweep - Assignment3\",\n",
        "  \"description\": \"Hyperparameter sweep for Seq2Seq Model with Attention\",\n",
        "  \"method\": \"grid\",\n",
        "  \"parameters\": {\n",
        "        \"enc_dec_layers\": {\n",
        "           \"values\": [1, 2, 3]\n",
        "        },\n",
        "        \"units\": {\n",
        "            \"values\": [128, 256]\n",
        "        },\n",
        "        \"dropout\": {\n",
        "            \"values\": [0, 0.2]\n",
        "        },\n",
        "        \"attention\": {\n",
        "            \"values\": [True]\n",
        "        }\n",
        "    }\n",
        "}"
      ],
      "execution_count": null,
      "outputs": []
    },
    {
      "cell_type": "code",
      "metadata": {
        "colab": {
          "base_uri": "https://localhost:8080/",
          "height": 141
        },
        "id": "AntGSlwU7RDm",
        "outputId": "03813e8a-1a5e-4125-8196-9f86dddffd34"
      },
      "source": [
        "sweep_id5 = wandb.sweep(sweep_config5, project=\"DA6401_Assignment3\")"
      ],
      "execution_count": 8,
      "outputs": [
        {
          "output_type": "error",
          "ename": "NameError",
          "evalue": "name 'wandb' is not defined",
          "traceback": [
            "\u001b[0;31m---------------------------------------------------------------------------\u001b[0m",
            "\u001b[0;31mNameError\u001b[0m                                 Traceback (most recent call last)",
            "\u001b[0;32m<ipython-input-8-1df21e078f0c>\u001b[0m in \u001b[0;36m<cell line: 0>\u001b[0;34m()\u001b[0m\n\u001b[0;32m----> 1\u001b[0;31m \u001b[0msweep_id5\u001b[0m \u001b[0;34m=\u001b[0m \u001b[0mwandb\u001b[0m\u001b[0;34m.\u001b[0m\u001b[0msweep\u001b[0m\u001b[0;34m(\u001b[0m\u001b[0msweep_config5\u001b[0m\u001b[0;34m,\u001b[0m \u001b[0mproject\u001b[0m\u001b[0;34m=\u001b[0m\u001b[0;34m\"DA6401_Assignment3\"\u001b[0m\u001b[0;34m)\u001b[0m\u001b[0;34m\u001b[0m\u001b[0;34m\u001b[0m\u001b[0m\n\u001b[0m",
            "\u001b[0;31mNameError\u001b[0m: name 'wandb' is not defined"
          ]
        }
      ]
    },
    {
      "cell_type": "code",
      "metadata": {
        "colab": {
          "base_uri": "https://localhost:8080/",
          "height": 141
        },
        "id": "YZtXMBc47h2Z",
        "outputId": "88e414bc-9309-42a4-be2b-935fb6aa8f97"
      },
      "source": [
        "wandb.agent(sweep_id5, function=lambda: train_with_wandb(\"hi\"), project=\"DA6401_Assignment3\")"
      ],
      "execution_count": 9,
      "outputs": [
        {
          "output_type": "error",
          "ename": "NameError",
          "evalue": "name 'wandb' is not defined",
          "traceback": [
            "\u001b[0;31m---------------------------------------------------------------------------\u001b[0m",
            "\u001b[0;31mNameError\u001b[0m                                 Traceback (most recent call last)",
            "\u001b[0;32m<ipython-input-9-de213c8fffcf>\u001b[0m in \u001b[0;36m<cell line: 0>\u001b[0;34m()\u001b[0m\n\u001b[0;32m----> 1\u001b[0;31m \u001b[0mwandb\u001b[0m\u001b[0;34m.\u001b[0m\u001b[0magent\u001b[0m\u001b[0;34m(\u001b[0m\u001b[0msweep_id5\u001b[0m\u001b[0;34m,\u001b[0m \u001b[0mfunction\u001b[0m\u001b[0;34m=\u001b[0m\u001b[0;32mlambda\u001b[0m\u001b[0;34m:\u001b[0m \u001b[0mtrain_with_wandb\u001b[0m\u001b[0;34m(\u001b[0m\u001b[0;34m\"hi\"\u001b[0m\u001b[0;34m)\u001b[0m\u001b[0;34m,\u001b[0m \u001b[0mproject\u001b[0m\u001b[0;34m=\u001b[0m\u001b[0;34m\"DA6401_Assignment3\"\u001b[0m\u001b[0;34m)\u001b[0m\u001b[0;34m\u001b[0m\u001b[0;34m\u001b[0m\u001b[0m\n\u001b[0m",
            "\u001b[0;31mNameError\u001b[0m: name 'wandb' is not defined"
          ]
        }
      ]
    }
  ]
}